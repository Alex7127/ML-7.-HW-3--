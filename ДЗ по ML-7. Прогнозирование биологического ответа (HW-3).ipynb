{
  "cells": [
    {
      "cell_type": "markdown",
      "metadata": {
        "id": "Z2DiJyA-iYUt"
      },
      "source": [
        "# Домашнее задание по ML-7.\n",
        "\n",
        "# Прогнозирование биологического ответа (HW-3).\n",
        "\n"
      ]
    },
    {
      "cell_type": "markdown",
      "metadata": {
        "id": "aQKQZ5VLh8SW"
      },
      "source": [
        "В результате выполнения данного задания необходимо предсказать биологический ответ молекул (столбец 'Activity') по их химическому составу (столбцы D1-D1776)."
      ]
    },
    {
      "cell_type": "markdown",
      "metadata": {
        "id": "35Hlf5Umd5mO"
      },
      "source": [
        "## Загрузка библиотек"
      ]
    },
    {
      "cell_type": "code",
      "execution_count": 1,
      "metadata": {
        "id": "lQq3pQRJ1B-B"
      },
      "outputs": [
        {
          "name": "stderr",
          "output_type": "stream",
          "text": [
            "C:\\Users\\Alex\\AppData\\Local\\Temp\\ipykernel_10740\\2353401913.py:24: MatplotlibDeprecationWarning: The seaborn styles shipped by Matplotlib are deprecated since 3.6, as they no longer correspond to the styles shipped by seaborn. However, they will remain available as 'seaborn-v0_8-<style>'. Alternatively, directly use the seaborn API instead.\n",
            "  plt.style.use('seaborn')\n"
          ]
        }
      ],
      "source": [
        "# Импорт необходимых библиотек:\n",
        "import numpy as np #для матричных вычислений\n",
        "import pandas as pd #для анализа и предобработки данных\n",
        "import matplotlib.pyplot as plt #для визуализации\n",
        "import seaborn as sns #для визуализации\n",
        "\n",
        "from sklearn import linear_model #линейной модели\n",
        "from sklearn import tree #деревьев решений\n",
        "from sklearn import ensemble #ансамблей\n",
        "from sklearn import metrics #метрик\n",
        "from sklearn.model_selection import train_test_split #сплитования выборки\n",
        "\n",
        "# Подбор гиперпараметров:\n",
        "from sklearn.model_selection import GridSearchCV #для поиска по сетке\n",
        "from sklearn.model_selection import RandomizedSearchCV #для рандомизированного поиска\n",
        "\n",
        "# Продвинутая оптимизаия:\n",
        "from sklearn.model_selection import cross_val_score\n",
        "import hyperopt\n",
        "from hyperopt import hp, fmin, tpe, Trials\n",
        "import optuna\n",
        "\n",
        "%matplotlib inline\n",
        "plt.style.use('seaborn')\n",
        "\n",
        "# Заглушка для варнингов\n",
        "import warnings\n",
        "warnings.filterwarnings(\"ignore\")"
      ]
    },
    {
      "cell_type": "markdown",
      "metadata": {
        "id": "4Y4KR8xhY7DT"
      },
      "source": [
        "## Загрузка данных"
      ]
    },
    {
      "cell_type": "code",
      "execution_count": 5,
      "metadata": {
        "id": "IxJX3snvCSWk"
      },
      "outputs": [],
      "source": [
        "data = pd.read_csv('data/_train_sem09 (1).csv') "
      ]
    },
    {
      "cell_type": "code",
      "execution_count": 6,
      "metadata": {
        "id": "wRwTO3aOTDyJ"
      },
      "outputs": [
        {
          "data": {
            "text/html": [
              "<div>\n",
              "<style scoped>\n",
              "    .dataframe tbody tr th:only-of-type {\n",
              "        vertical-align: middle;\n",
              "    }\n",
              "\n",
              "    .dataframe tbody tr th {\n",
              "        vertical-align: top;\n",
              "    }\n",
              "\n",
              "    .dataframe thead th {\n",
              "        text-align: right;\n",
              "    }\n",
              "</style>\n",
              "<table border=\"1\" class=\"dataframe\">\n",
              "  <thead>\n",
              "    <tr style=\"text-align: right;\">\n",
              "      <th></th>\n",
              "      <th>Activity</th>\n",
              "      <th>D1</th>\n",
              "      <th>D2</th>\n",
              "      <th>D3</th>\n",
              "      <th>D4</th>\n",
              "      <th>D5</th>\n",
              "      <th>D6</th>\n",
              "      <th>D7</th>\n",
              "      <th>D8</th>\n",
              "      <th>D9</th>\n",
              "      <th>...</th>\n",
              "      <th>D1767</th>\n",
              "      <th>D1768</th>\n",
              "      <th>D1769</th>\n",
              "      <th>D1770</th>\n",
              "      <th>D1771</th>\n",
              "      <th>D1772</th>\n",
              "      <th>D1773</th>\n",
              "      <th>D1774</th>\n",
              "      <th>D1775</th>\n",
              "      <th>D1776</th>\n",
              "    </tr>\n",
              "  </thead>\n",
              "  <tbody>\n",
              "    <tr>\n",
              "      <th>0</th>\n",
              "      <td>1</td>\n",
              "      <td>0.000000</td>\n",
              "      <td>0.497009</td>\n",
              "      <td>0.10</td>\n",
              "      <td>0.0</td>\n",
              "      <td>0.132956</td>\n",
              "      <td>0.678031</td>\n",
              "      <td>0.273166</td>\n",
              "      <td>0.585445</td>\n",
              "      <td>0.743663</td>\n",
              "      <td>...</td>\n",
              "      <td>0</td>\n",
              "      <td>0</td>\n",
              "      <td>0</td>\n",
              "      <td>0</td>\n",
              "      <td>0</td>\n",
              "      <td>0</td>\n",
              "      <td>0</td>\n",
              "      <td>0</td>\n",
              "      <td>0</td>\n",
              "      <td>0</td>\n",
              "    </tr>\n",
              "    <tr>\n",
              "      <th>1</th>\n",
              "      <td>1</td>\n",
              "      <td>0.366667</td>\n",
              "      <td>0.606291</td>\n",
              "      <td>0.05</td>\n",
              "      <td>0.0</td>\n",
              "      <td>0.111209</td>\n",
              "      <td>0.803455</td>\n",
              "      <td>0.106105</td>\n",
              "      <td>0.411754</td>\n",
              "      <td>0.836582</td>\n",
              "      <td>...</td>\n",
              "      <td>1</td>\n",
              "      <td>1</td>\n",
              "      <td>1</td>\n",
              "      <td>1</td>\n",
              "      <td>0</td>\n",
              "      <td>1</td>\n",
              "      <td>0</td>\n",
              "      <td>0</td>\n",
              "      <td>1</td>\n",
              "      <td>0</td>\n",
              "    </tr>\n",
              "    <tr>\n",
              "      <th>2</th>\n",
              "      <td>1</td>\n",
              "      <td>0.033300</td>\n",
              "      <td>0.480124</td>\n",
              "      <td>0.00</td>\n",
              "      <td>0.0</td>\n",
              "      <td>0.209791</td>\n",
              "      <td>0.610350</td>\n",
              "      <td>0.356453</td>\n",
              "      <td>0.517720</td>\n",
              "      <td>0.679051</td>\n",
              "      <td>...</td>\n",
              "      <td>0</td>\n",
              "      <td>0</td>\n",
              "      <td>0</td>\n",
              "      <td>0</td>\n",
              "      <td>0</td>\n",
              "      <td>0</td>\n",
              "      <td>0</td>\n",
              "      <td>0</td>\n",
              "      <td>0</td>\n",
              "      <td>0</td>\n",
              "    </tr>\n",
              "    <tr>\n",
              "      <th>3</th>\n",
              "      <td>1</td>\n",
              "      <td>0.000000</td>\n",
              "      <td>0.538825</td>\n",
              "      <td>0.00</td>\n",
              "      <td>0.5</td>\n",
              "      <td>0.196344</td>\n",
              "      <td>0.724230</td>\n",
              "      <td>0.235606</td>\n",
              "      <td>0.288764</td>\n",
              "      <td>0.805110</td>\n",
              "      <td>...</td>\n",
              "      <td>0</td>\n",
              "      <td>0</td>\n",
              "      <td>0</td>\n",
              "      <td>0</td>\n",
              "      <td>0</td>\n",
              "      <td>0</td>\n",
              "      <td>0</td>\n",
              "      <td>0</td>\n",
              "      <td>0</td>\n",
              "      <td>0</td>\n",
              "    </tr>\n",
              "    <tr>\n",
              "      <th>4</th>\n",
              "      <td>0</td>\n",
              "      <td>0.100000</td>\n",
              "      <td>0.517794</td>\n",
              "      <td>0.00</td>\n",
              "      <td>0.0</td>\n",
              "      <td>0.494734</td>\n",
              "      <td>0.781422</td>\n",
              "      <td>0.154361</td>\n",
              "      <td>0.303809</td>\n",
              "      <td>0.812646</td>\n",
              "      <td>...</td>\n",
              "      <td>0</td>\n",
              "      <td>0</td>\n",
              "      <td>0</td>\n",
              "      <td>0</td>\n",
              "      <td>0</td>\n",
              "      <td>0</td>\n",
              "      <td>0</td>\n",
              "      <td>0</td>\n",
              "      <td>0</td>\n",
              "      <td>0</td>\n",
              "    </tr>\n",
              "  </tbody>\n",
              "</table>\n",
              "<p>5 rows × 1777 columns</p>\n",
              "</div>"
            ],
            "text/plain": [
              "   Activity        D1        D2    D3   D4        D5        D6        D7  \\\n",
              "0         1  0.000000  0.497009  0.10  0.0  0.132956  0.678031  0.273166   \n",
              "1         1  0.366667  0.606291  0.05  0.0  0.111209  0.803455  0.106105   \n",
              "2         1  0.033300  0.480124  0.00  0.0  0.209791  0.610350  0.356453   \n",
              "3         1  0.000000  0.538825  0.00  0.5  0.196344  0.724230  0.235606   \n",
              "4         0  0.100000  0.517794  0.00  0.0  0.494734  0.781422  0.154361   \n",
              "\n",
              "         D8        D9  ...  D1767  D1768  D1769  D1770  D1771  D1772  D1773  \\\n",
              "0  0.585445  0.743663  ...      0      0      0      0      0      0      0   \n",
              "1  0.411754  0.836582  ...      1      1      1      1      0      1      0   \n",
              "2  0.517720  0.679051  ...      0      0      0      0      0      0      0   \n",
              "3  0.288764  0.805110  ...      0      0      0      0      0      0      0   \n",
              "4  0.303809  0.812646  ...      0      0      0      0      0      0      0   \n",
              "\n",
              "   D1774  D1775  D1776  \n",
              "0      0      0      0  \n",
              "1      0      1      0  \n",
              "2      0      0      0  \n",
              "3      0      0      0  \n",
              "4      0      0      0  \n",
              "\n",
              "[5 rows x 1777 columns]"
            ]
          },
          "execution_count": 6,
          "metadata": {},
          "output_type": "execute_result"
        }
      ],
      "source": [
        "# Прочитаем первые 5 строк нашего датасета\n",
        "data.head()"
      ]
    },
    {
      "cell_type": "markdown",
      "metadata": {},
      "source": [
        "Данные представлены в формате CSV.  Каждая строка представляет молекулу. \n",
        "\n",
        "Первый столбец **Activity** содержит экспериментальные данные, описывающие фактический биологический ответ [0, 1]; \n",
        "Остальные столбцы D1-D1776 представляют собой молекулярные **дескрипторы** — это вычисляемые свойства, которые могут фиксировать некоторые характеристики молекулы, например размер, форму или состав элементов.\n",
        "\n",
        "Предварительная обработка не требуется, данные уже закодированы и нормализованы.\n",
        "\n",
        "В качестве метрики будем использовать **F1-score**.\n",
        "\n",
        "Необходимо обучить две модели: логистическую регрессию и случайный лес. Далее нужно сделать подбор гиперпараметров с помощью базовых и продвинутых методов оптимизации. Важно использовать все четыре метода (GridSeachCV, RandomizedSearchCV, Hyperopt, Optuna) хотя бы по разу, максимальное количество итераций не должно превышать 50."
      ]
    },
    {
      "cell_type": "markdown",
      "metadata": {},
      "source": [
        "# Исследование данных"
      ]
    },
    {
      "cell_type": "code",
      "execution_count": 8,
      "metadata": {},
      "outputs": [
        {
          "name": "stdout",
          "output_type": "stream",
          "text": [
            "<class 'pandas.core.frame.DataFrame'>\n",
            "RangeIndex: 3751 entries, 0 to 3750\n",
            "Columns: 1777 entries, Activity to D1776\n",
            "dtypes: float64(942), int64(835)\n",
            "memory usage: 50.9 MB\n"
          ]
        }
      ],
      "source": [
        "# Информация о данных\n",
        "data.info()"
      ]
    },
    {
      "cell_type": "code",
      "execution_count": 10,
      "metadata": {},
      "outputs": [
        {
          "data": {
            "text/html": [
              "<div>\n",
              "<style scoped>\n",
              "    .dataframe tbody tr th:only-of-type {\n",
              "        vertical-align: middle;\n",
              "    }\n",
              "\n",
              "    .dataframe tbody tr th {\n",
              "        vertical-align: top;\n",
              "    }\n",
              "\n",
              "    .dataframe thead th {\n",
              "        text-align: right;\n",
              "    }\n",
              "</style>\n",
              "<table border=\"1\" class=\"dataframe\">\n",
              "  <thead>\n",
              "    <tr style=\"text-align: right;\">\n",
              "      <th></th>\n",
              "      <th>Activity</th>\n",
              "      <th>D1</th>\n",
              "      <th>D2</th>\n",
              "      <th>D3</th>\n",
              "      <th>D4</th>\n",
              "      <th>D5</th>\n",
              "      <th>D6</th>\n",
              "      <th>D7</th>\n",
              "      <th>D8</th>\n",
              "      <th>D9</th>\n",
              "      <th>...</th>\n",
              "      <th>D1767</th>\n",
              "      <th>D1768</th>\n",
              "      <th>D1769</th>\n",
              "      <th>D1770</th>\n",
              "      <th>D1771</th>\n",
              "      <th>D1772</th>\n",
              "      <th>D1773</th>\n",
              "      <th>D1774</th>\n",
              "      <th>D1775</th>\n",
              "      <th>D1776</th>\n",
              "    </tr>\n",
              "  </thead>\n",
              "  <tbody>\n",
              "    <tr>\n",
              "      <th>count</th>\n",
              "      <td>3751.000000</td>\n",
              "      <td>3751.000000</td>\n",
              "      <td>3751.000000</td>\n",
              "      <td>3751.000000</td>\n",
              "      <td>3751.000000</td>\n",
              "      <td>3751.000000</td>\n",
              "      <td>3751.000000</td>\n",
              "      <td>3751.000000</td>\n",
              "      <td>3751.000000</td>\n",
              "      <td>3751.000000</td>\n",
              "      <td>...</td>\n",
              "      <td>3751.000000</td>\n",
              "      <td>3751.000000</td>\n",
              "      <td>3751.000000</td>\n",
              "      <td>3751.000000</td>\n",
              "      <td>3751.000000</td>\n",
              "      <td>3751.000000</td>\n",
              "      <td>3751.000000</td>\n",
              "      <td>3751.000000</td>\n",
              "      <td>3751.000000</td>\n",
              "      <td>3751.000000</td>\n",
              "    </tr>\n",
              "    <tr>\n",
              "      <th>mean</th>\n",
              "      <td>0.542255</td>\n",
              "      <td>0.076948</td>\n",
              "      <td>0.592436</td>\n",
              "      <td>0.068142</td>\n",
              "      <td>0.038990</td>\n",
              "      <td>0.212112</td>\n",
              "      <td>0.686653</td>\n",
              "      <td>0.274713</td>\n",
              "      <td>0.455133</td>\n",
              "      <td>0.749517</td>\n",
              "      <td>...</td>\n",
              "      <td>0.026926</td>\n",
              "      <td>0.014663</td>\n",
              "      <td>0.013863</td>\n",
              "      <td>0.021861</td>\n",
              "      <td>0.015196</td>\n",
              "      <td>0.016796</td>\n",
              "      <td>0.012263</td>\n",
              "      <td>0.011730</td>\n",
              "      <td>0.020261</td>\n",
              "      <td>0.011197</td>\n",
              "    </tr>\n",
              "    <tr>\n",
              "      <th>std</th>\n",
              "      <td>0.498278</td>\n",
              "      <td>0.079989</td>\n",
              "      <td>0.105860</td>\n",
              "      <td>0.078414</td>\n",
              "      <td>0.115885</td>\n",
              "      <td>0.102592</td>\n",
              "      <td>0.078702</td>\n",
              "      <td>0.090017</td>\n",
              "      <td>0.162731</td>\n",
              "      <td>0.071702</td>\n",
              "      <td>...</td>\n",
              "      <td>0.161889</td>\n",
              "      <td>0.120215</td>\n",
              "      <td>0.116938</td>\n",
              "      <td>0.146249</td>\n",
              "      <td>0.122348</td>\n",
              "      <td>0.128522</td>\n",
              "      <td>0.110074</td>\n",
              "      <td>0.107683</td>\n",
              "      <td>0.140911</td>\n",
              "      <td>0.105236</td>\n",
              "    </tr>\n",
              "    <tr>\n",
              "      <th>min</th>\n",
              "      <td>0.000000</td>\n",
              "      <td>0.000000</td>\n",
              "      <td>0.282128</td>\n",
              "      <td>0.000000</td>\n",
              "      <td>0.000000</td>\n",
              "      <td>0.002630</td>\n",
              "      <td>0.137873</td>\n",
              "      <td>0.006130</td>\n",
              "      <td>0.000000</td>\n",
              "      <td>0.275590</td>\n",
              "      <td>...</td>\n",
              "      <td>0.000000</td>\n",
              "      <td>0.000000</td>\n",
              "      <td>0.000000</td>\n",
              "      <td>0.000000</td>\n",
              "      <td>0.000000</td>\n",
              "      <td>0.000000</td>\n",
              "      <td>0.000000</td>\n",
              "      <td>0.000000</td>\n",
              "      <td>0.000000</td>\n",
              "      <td>0.000000</td>\n",
              "    </tr>\n",
              "    <tr>\n",
              "      <th>25%</th>\n",
              "      <td>0.000000</td>\n",
              "      <td>0.033300</td>\n",
              "      <td>0.517811</td>\n",
              "      <td>0.000000</td>\n",
              "      <td>0.000000</td>\n",
              "      <td>0.138118</td>\n",
              "      <td>0.625627</td>\n",
              "      <td>0.207374</td>\n",
              "      <td>0.378062</td>\n",
              "      <td>0.707339</td>\n",
              "      <td>...</td>\n",
              "      <td>0.000000</td>\n",
              "      <td>0.000000</td>\n",
              "      <td>0.000000</td>\n",
              "      <td>0.000000</td>\n",
              "      <td>0.000000</td>\n",
              "      <td>0.000000</td>\n",
              "      <td>0.000000</td>\n",
              "      <td>0.000000</td>\n",
              "      <td>0.000000</td>\n",
              "      <td>0.000000</td>\n",
              "    </tr>\n",
              "    <tr>\n",
              "      <th>50%</th>\n",
              "      <td>1.000000</td>\n",
              "      <td>0.066700</td>\n",
              "      <td>0.585989</td>\n",
              "      <td>0.050000</td>\n",
              "      <td>0.000000</td>\n",
              "      <td>0.190926</td>\n",
              "      <td>0.674037</td>\n",
              "      <td>0.277845</td>\n",
              "      <td>0.499942</td>\n",
              "      <td>0.738961</td>\n",
              "      <td>...</td>\n",
              "      <td>0.000000</td>\n",
              "      <td>0.000000</td>\n",
              "      <td>0.000000</td>\n",
              "      <td>0.000000</td>\n",
              "      <td>0.000000</td>\n",
              "      <td>0.000000</td>\n",
              "      <td>0.000000</td>\n",
              "      <td>0.000000</td>\n",
              "      <td>0.000000</td>\n",
              "      <td>0.000000</td>\n",
              "    </tr>\n",
              "    <tr>\n",
              "      <th>75%</th>\n",
              "      <td>1.000000</td>\n",
              "      <td>0.100000</td>\n",
              "      <td>0.668395</td>\n",
              "      <td>0.100000</td>\n",
              "      <td>0.000000</td>\n",
              "      <td>0.261726</td>\n",
              "      <td>0.740663</td>\n",
              "      <td>0.335816</td>\n",
              "      <td>0.569962</td>\n",
              "      <td>0.788177</td>\n",
              "      <td>...</td>\n",
              "      <td>0.000000</td>\n",
              "      <td>0.000000</td>\n",
              "      <td>0.000000</td>\n",
              "      <td>0.000000</td>\n",
              "      <td>0.000000</td>\n",
              "      <td>0.000000</td>\n",
              "      <td>0.000000</td>\n",
              "      <td>0.000000</td>\n",
              "      <td>0.000000</td>\n",
              "      <td>0.000000</td>\n",
              "    </tr>\n",
              "    <tr>\n",
              "      <th>max</th>\n",
              "      <td>1.000000</td>\n",
              "      <td>1.000000</td>\n",
              "      <td>0.964381</td>\n",
              "      <td>0.950000</td>\n",
              "      <td>1.000000</td>\n",
              "      <td>1.000000</td>\n",
              "      <td>0.994735</td>\n",
              "      <td>0.790831</td>\n",
              "      <td>0.989870</td>\n",
              "      <td>1.000000</td>\n",
              "      <td>...</td>\n",
              "      <td>1.000000</td>\n",
              "      <td>1.000000</td>\n",
              "      <td>1.000000</td>\n",
              "      <td>1.000000</td>\n",
              "      <td>1.000000</td>\n",
              "      <td>1.000000</td>\n",
              "      <td>1.000000</td>\n",
              "      <td>1.000000</td>\n",
              "      <td>1.000000</td>\n",
              "      <td>1.000000</td>\n",
              "    </tr>\n",
              "  </tbody>\n",
              "</table>\n",
              "<p>8 rows × 1777 columns</p>\n",
              "</div>"
            ],
            "text/plain": [
              "          Activity           D1           D2           D3           D4  \\\n",
              "count  3751.000000  3751.000000  3751.000000  3751.000000  3751.000000   \n",
              "mean      0.542255     0.076948     0.592436     0.068142     0.038990   \n",
              "std       0.498278     0.079989     0.105860     0.078414     0.115885   \n",
              "min       0.000000     0.000000     0.282128     0.000000     0.000000   \n",
              "25%       0.000000     0.033300     0.517811     0.000000     0.000000   \n",
              "50%       1.000000     0.066700     0.585989     0.050000     0.000000   \n",
              "75%       1.000000     0.100000     0.668395     0.100000     0.000000   \n",
              "max       1.000000     1.000000     0.964381     0.950000     1.000000   \n",
              "\n",
              "                D5           D6           D7           D8           D9  ...  \\\n",
              "count  3751.000000  3751.000000  3751.000000  3751.000000  3751.000000  ...   \n",
              "mean      0.212112     0.686653     0.274713     0.455133     0.749517  ...   \n",
              "std       0.102592     0.078702     0.090017     0.162731     0.071702  ...   \n",
              "min       0.002630     0.137873     0.006130     0.000000     0.275590  ...   \n",
              "25%       0.138118     0.625627     0.207374     0.378062     0.707339  ...   \n",
              "50%       0.190926     0.674037     0.277845     0.499942     0.738961  ...   \n",
              "75%       0.261726     0.740663     0.335816     0.569962     0.788177  ...   \n",
              "max       1.000000     0.994735     0.790831     0.989870     1.000000  ...   \n",
              "\n",
              "             D1767        D1768        D1769        D1770        D1771  \\\n",
              "count  3751.000000  3751.000000  3751.000000  3751.000000  3751.000000   \n",
              "mean      0.026926     0.014663     0.013863     0.021861     0.015196   \n",
              "std       0.161889     0.120215     0.116938     0.146249     0.122348   \n",
              "min       0.000000     0.000000     0.000000     0.000000     0.000000   \n",
              "25%       0.000000     0.000000     0.000000     0.000000     0.000000   \n",
              "50%       0.000000     0.000000     0.000000     0.000000     0.000000   \n",
              "75%       0.000000     0.000000     0.000000     0.000000     0.000000   \n",
              "max       1.000000     1.000000     1.000000     1.000000     1.000000   \n",
              "\n",
              "             D1772        D1773        D1774        D1775        D1776  \n",
              "count  3751.000000  3751.000000  3751.000000  3751.000000  3751.000000  \n",
              "mean      0.016796     0.012263     0.011730     0.020261     0.011197  \n",
              "std       0.128522     0.110074     0.107683     0.140911     0.105236  \n",
              "min       0.000000     0.000000     0.000000     0.000000     0.000000  \n",
              "25%       0.000000     0.000000     0.000000     0.000000     0.000000  \n",
              "50%       0.000000     0.000000     0.000000     0.000000     0.000000  \n",
              "75%       0.000000     0.000000     0.000000     0.000000     0.000000  \n",
              "max       1.000000     1.000000     1.000000     1.000000     1.000000  \n",
              "\n",
              "[8 rows x 1777 columns]"
            ]
          },
          "execution_count": 10,
          "metadata": {},
          "output_type": "execute_result"
        }
      ],
      "source": [
        "# Описание данных\n",
        "data.describe()"
      ]
    },
    {
      "cell_type": "code",
      "execution_count": 11,
      "metadata": {},
      "outputs": [
        {
          "data": {
            "image/png": "[encoded data removed]",
            "text/plain": [
              "<Figure size 800x550 with 1 Axes>"
            ]
          },
          "metadata": {},
          "output_type": "display_data"
        }
      ],
      "source": [
        "# Сбалансированность классов\n",
        "sns.countplot(data=data, x='Activity');"
      ]
    },
    {
      "cell_type": "markdown",
      "metadata": {},
      "source": [
        "Целевой класс более или менее сбалансирован"
      ]
    },
    {
      "cell_type": "code",
      "execution_count": 14,
      "metadata": {},
      "outputs": [],
      "source": [
        "# Создаем матрицу наблюдений X и вектор ответов y\n",
        "X = data.drop(['Activity'], axis=1)\n",
        "y = data['Activity']"
      ]
    },
    {
      "cell_type": "markdown",
      "metadata": {},
      "source": [
        "Разделяем выборку на тренировочную и тестовую в соотношении 80/20. Для сохранения соотношений целевого признака используем параметр stratify (стратифицированное разбиение)."
      ]
    },
    {
      "cell_type": "code",
      "execution_count": 15,
      "metadata": {},
      "outputs": [],
      "source": [
        "X_train, X_test, y_train, y_test = train_test_split(X, y, stratify=y, random_state = 1, test_size = 0.2)"
      ]
    },
    {
      "cell_type": "markdown",
      "metadata": {},
      "source": [
        "# Оптимизация гиперпараметров модели"
      ]
    },
    {
      "cell_type": "markdown",
      "metadata": {},
      "source": [
        "Зафиксируем только метрики, которые были получены без дополнительной настройки, т.е со значениями гиперпараметров, установленных по умолчанию."
      ]
    },
    {
      "cell_type": "markdown",
      "metadata": {},
      "source": [
        "### <center> **Логистическая регрессия**"
      ]
    },
    {
      "cell_type": "code",
      "execution_count": 17,
      "metadata": {},
      "outputs": [
        {
          "name": "stdout",
          "output_type": "stream",
          "text": [
            "accuracy на тестовом наборе: 0.76\n",
            "f1_score на тестовом наборе: 0.79\n"
          ]
        }
      ],
      "source": [
        "# Создаем объект класса логистическая регрессия\n",
        "log_reg = linear_model.LogisticRegression(max_iter = 50)\n",
        "# Обучаем модель, минимизируя logloss\n",
        "log_reg.fit(X_train, y_train)\n",
        "print(\"accuracy на тестовом наборе: {:.2f}\".format(log_reg.score(X_test, y_test)))\n",
        "y_test_pred = log_reg.predict(X_test)\n",
        "print('f1_score на тестовом наборе: {:.2f}'.format(metrics.f1_score(y_test, y_test_pred)))"
      ]
    },
    {
      "cell_type": "markdown",
      "metadata": {},
      "source": [
        "### <center> **Случайный лес**"
      ]
    },
    {
      "cell_type": "code",
      "execution_count": 18,
      "metadata": {},
      "outputs": [
        {
          "name": "stdout",
          "output_type": "stream",
          "text": [
            "Train: 1.00\n",
            "Test: 0.81\n"
          ]
        }
      ],
      "source": [
        "# Создаем объект класса случайный лес\n",
        "rf = ensemble.RandomForestClassifier(random_state=42)\n",
        "# Обучаем модель\n",
        "rf.fit(X_train, y_train)\n",
        "# Выводим значения метрики \n",
        "y_train_pred = rf.predict(X_train)\n",
        "print('Train: {:.2f}'.format(metrics.f1_score(y_train, y_train_pred)))\n",
        "y_test_pred = rf.predict(X_test)\n",
        "print('Test: {:.2f}'.format(metrics.f1_score(y_test, y_test_pred)))"
      ]
    },
    {
      "cell_type": "markdown",
      "metadata": {},
      "source": [
        "Довольно высокие результаты метрики f1. В модели обучения методом \"Случайный лес\" показатель тернировочной метрики имеет признак переобучения (100% результат). Попробуем произвести подбор гиперпараметров и проверить значения метрики с оптимальными настройками."
      ]
    },
    {
      "cell_type": "markdown",
      "metadata": {},
      "source": [
        "## Базовая оптимизация:"
      ]
    },
    {
      "cell_type": "markdown",
      "metadata": {},
      "source": [
        "### <center> **GridSearchCV**"
      ]
    },
    {
      "cell_type": "code",
      "execution_count": 22,
      "metadata": {},
      "outputs": [
        {
          "name": "stdout",
          "output_type": "stream",
          "text": [
            "CPU times: total: 875 ms\n",
            "Wall time: 5.93 s\n",
            "accuracy на тестовом наборе: 0.76\n",
            "f1_score на тестовом наборе: 0.78\n",
            "Наилучшие значения гиперпараметров: {'penalty': 'l2', 'solver': 'saga'}\n"
          ]
        }
      ],
      "source": [
        "# Модель логистической регрессии\n",
        "param_grid = {'penalty': ['l2', 'none'] ,# тип регурялизации\n",
        "              'solver': ['lbfgs', 'saga'], # алгоритм оптимизации\n",
        "              }\n",
        "grid_search = GridSearchCV(\n",
        "    estimator=linear_model.LogisticRegression(\n",
        "        random_state=42, # генератор случайных чисел\n",
        "        max_iter=50 # количество итераций на сходимость\n",
        "    ), \n",
        "    param_grid=param_grid, \n",
        "    cv=5, \n",
        "    n_jobs = -1\n",
        ")\n",
        "\n",
        "%time grid_search.fit(X_train, y_train) \n",
        "print(\"accuracy на тестовом наборе: {:.2f}\".format(grid_search.score(X_test, y_test)))\n",
        "y_test_pred = grid_search.predict(X_test)\n",
        "print('f1_score на тестовом наборе: {:.2f}'.format(metrics.f1_score(y_test, y_test_pred)))\n",
        "print(\"Наилучшие значения гиперпараметров: {}\".format(grid_search.best_params_))"
      ]
    },
    {
      "cell_type": "markdown",
      "metadata": {},
      "source": [
        "Значение метрики f1 снизилось на одну сотую, можно сказать, что без измененений, но это значит лишь, что мы не нашли комбинацию внешних параметров лучше, чем заданы по умолчанию. Это не удивительно и достаточно часто исходные  гиперпараметры дают неплохой результат, но это не повод останавливаться. Поэтому попробуем расширить сетку гиперпараметров."
      ]
    },
    {
      "cell_type": "code",
      "execution_count": 25,
      "metadata": {},
      "outputs": [
        {
          "name": "stdout",
          "output_type": "stream",
          "text": [
            "CPU times: total: 1.05 s\n",
            "Wall time: 33.2 s\n",
            "accuracy на тестовом наборе: 0.77\n",
            "f1_score на тестовом наборе: 0.79\n",
            "Наилучшие значения гиперпараметров: {'C': 0.1, 'penalty': 'l2', 'solver': 'lbfgs'}\n"
          ]
        }
      ],
      "source": [
        "# Модель логистической регрессии\n",
        "param_grid = [\n",
        "              {'penalty': ['l2', 'none'] , # тип регуляризации\n",
        "              'solver': ['lbfgs', 'sag'], # алгоритм оптимизации\n",
        "               'C': [0.01, 0.1, 0.3, 0.5, 0.7, 0.9, 1]}, # уровень силы регурялизации\n",
        "              \n",
        "              {'penalty': ['l1', 'l2'] ,\n",
        "              'solver': ['liblinear', 'saga'],\n",
        "               'C': [0.01, 0.1, 0.3, 0.5, 0.7, 0.9, 1]}\n",
        "]\n",
        "grid_search_1 = GridSearchCV(\n",
        "    estimator=linear_model.LogisticRegression(random_state=42, max_iter=50), \n",
        "    param_grid=param_grid, \n",
        "    cv=5,\n",
        "    n_jobs = -1\n",
        ")  \n",
        "%time grid_search_1.fit(X_train, y_train) \n",
        "print(\"accuracy на тестовом наборе: {:.2f}\".format(grid_search_1.score(X_test, y_test)))\n",
        "y_test_pred = grid_search_1.predict(X_test)\n",
        "print('f1_score на тестовом наборе: {:.2f}'.format(metrics.f1_score(y_test, y_test_pred)))\n",
        "print(\"Наилучшие значения гиперпараметров: {}\".format(grid_search_1.best_params_))"
      ]
    },
    {
      "cell_type": "markdown",
      "metadata": {},
      "source": [
        "Таким образом немного удалось улучшить значение метрик, но они равны заданным по умолчанию."
      ]
    },
    {
      "cell_type": "code",
      "execution_count": 27,
      "metadata": {},
      "outputs": [
        {
          "name": "stdout",
          "output_type": "stream",
          "text": [
            "CPU times: total: 1.06 s\n",
            "Wall time: 20.4 s\n",
            "f1_score на обучающем наборе: 0.94\n",
            "accuracy на тестовом наборе: 0.80\n",
            "f1_score на тестовом наборе: 0.82\n",
            "Наилучшие значения гиперпараметров: {'max_depth': 20, 'min_samples_leaf': 5, 'n_estimators': 140}\n"
          ]
        }
      ],
      "source": [
        "# Случайный лес\n",
        "param_grid = {'n_estimators': list(range(80, 200, 30)),\n",
        "              'min_samples_leaf': [5],\n",
        "              'max_depth': list(np.linspace(20, 40, 5, dtype=int))\n",
        "              }\n",
        "            \n",
        "grid_search_forest = GridSearchCV(\n",
        "    estimator=ensemble.RandomForestClassifier(random_state=42), \n",
        "    param_grid=param_grid, \n",
        "    cv=5,\n",
        "    n_jobs = -1\n",
        ")  \n",
        "%time grid_search_forest.fit(X_train, y_train) \n",
        "y_train_pred = grid_search_forest.predict(X_train)\n",
        "print('f1_score на обучающем наборе: {:.2f}'.format(metrics.f1_score(y_train, y_train_pred)))\n",
        "print(\"accuracy на тестовом наборе: {:.2f}\".format(grid_search_forest.score(X_test, y_test)))\n",
        "y_test_pred = grid_search_forest.predict(X_test)\n",
        "print('f1_score на тестовом наборе: {:.2f}'.format(metrics.f1_score(y_test, y_test_pred)))\n",
        "print(\"Наилучшие значения гиперпараметров: {}\".format(grid_search_forest.best_params_))"
      ]
    },
    {
      "cell_type": "markdown",
      "metadata": {},
      "source": [
        "Хорошие показатели метрик. Но возможно стоит обратить внимание на переобучение в обучающем наборе данных."
      ]
    },
    {
      "cell_type": "code",
      "execution_count": 28,
      "metadata": {},
      "outputs": [
        {
          "name": "stdout",
          "output_type": "stream",
          "text": [
            "Наилучшая модель:\n",
            "LogisticRegression(max_iter=50, random_state=42, solver='saga')\n"
          ]
        }
      ],
      "source": [
        "print(\"Наилучшая модель:\\n{}\".format(grid_search.best_estimator_))"
      ]
    },
    {
      "cell_type": "code",
      "execution_count": 29,
      "metadata": {},
      "outputs": [
        {
          "name": "stdout",
          "output_type": "stream",
          "text": [
            "Наилучшее значение точности при кросс-валидаци: 0.76\n"
          ]
        }
      ],
      "source": [
        "print(\"Наилучшее значение точности при кросс-валидаци: {:.2f}\".format(grid_search.best_score_))"
      ]
    },
    {
      "cell_type": "code",
      "execution_count": 30,
      "metadata": {},
      "outputs": [
        {
          "data": {
            "text/html": [
              "<div>\n",
              "<style scoped>\n",
              "    .dataframe tbody tr th:only-of-type {\n",
              "        vertical-align: middle;\n",
              "    }\n",
              "\n",
              "    .dataframe tbody tr th {\n",
              "        vertical-align: top;\n",
              "    }\n",
              "\n",
              "    .dataframe thead th {\n",
              "        text-align: right;\n",
              "    }\n",
              "</style>\n",
              "<table border=\"1\" class=\"dataframe\">\n",
              "  <thead>\n",
              "    <tr style=\"text-align: right;\">\n",
              "      <th></th>\n",
              "      <th>mean_fit_time</th>\n",
              "      <th>std_fit_time</th>\n",
              "      <th>mean_score_time</th>\n",
              "      <th>std_score_time</th>\n",
              "      <th>param_C</th>\n",
              "      <th>param_penalty</th>\n",
              "      <th>param_solver</th>\n",
              "      <th>params</th>\n",
              "      <th>split0_test_score</th>\n",
              "      <th>split1_test_score</th>\n",
              "      <th>split2_test_score</th>\n",
              "      <th>split3_test_score</th>\n",
              "      <th>split4_test_score</th>\n",
              "      <th>mean_test_score</th>\n",
              "      <th>std_test_score</th>\n",
              "      <th>rank_test_score</th>\n",
              "    </tr>\n",
              "  </thead>\n",
              "  <tbody>\n",
              "    <tr>\n",
              "      <th>0</th>\n",
              "      <td>1.177799</td>\n",
              "      <td>0.045670</td>\n",
              "      <td>0.023196</td>\n",
              "      <td>0.006555</td>\n",
              "      <td>0.01</td>\n",
              "      <td>l2</td>\n",
              "      <td>lbfgs</td>\n",
              "      <td>{'C': 0.01, 'penalty': 'l2', 'solver': 'lbfgs'}</td>\n",
              "      <td>0.736667</td>\n",
              "      <td>0.765000</td>\n",
              "      <td>0.780000</td>\n",
              "      <td>0.745</td>\n",
              "      <td>0.746667</td>\n",
              "      <td>0.754667</td>\n",
              "      <td>0.015684</td>\n",
              "      <td>21</td>\n",
              "    </tr>\n",
              "    <tr>\n",
              "      <th>1</th>\n",
              "      <td>2.999848</td>\n",
              "      <td>0.030241</td>\n",
              "      <td>0.018348</td>\n",
              "      <td>0.001869</td>\n",
              "      <td>0.01</td>\n",
              "      <td>l2</td>\n",
              "      <td>sag</td>\n",
              "      <td>{'C': 0.01, 'penalty': 'l2', 'solver': 'sag'}</td>\n",
              "      <td>0.738333</td>\n",
              "      <td>0.763333</td>\n",
              "      <td>0.781667</td>\n",
              "      <td>0.745</td>\n",
              "      <td>0.745000</td>\n",
              "      <td>0.754667</td>\n",
              "      <td>0.015861</td>\n",
              "      <td>21</td>\n",
              "    </tr>\n",
              "  </tbody>\n",
              "</table>\n",
              "</div>"
            ],
            "text/plain": [
              "   mean_fit_time  std_fit_time  mean_score_time  std_score_time param_C  \\\n",
              "0       1.177799      0.045670         0.023196        0.006555    0.01   \n",
              "1       2.999848      0.030241         0.018348        0.001869    0.01   \n",
              "\n",
              "  param_penalty param_solver                                           params  \\\n",
              "0            l2        lbfgs  {'C': 0.01, 'penalty': 'l2', 'solver': 'lbfgs'}   \n",
              "1            l2          sag    {'C': 0.01, 'penalty': 'l2', 'solver': 'sag'}   \n",
              "\n",
              "   split0_test_score  split1_test_score  split2_test_score  split3_test_score  \\\n",
              "0           0.736667           0.765000           0.780000              0.745   \n",
              "1           0.738333           0.763333           0.781667              0.745   \n",
              "\n",
              "   split4_test_score  mean_test_score  std_test_score  rank_test_score  \n",
              "0           0.746667         0.754667        0.015684               21  \n",
              "1           0.745000         0.754667        0.015861               21  "
            ]
          },
          "execution_count": 30,
          "metadata": {},
          "output_type": "execute_result"
        }
      ],
      "source": [
        "# Посмотрим на результаты кросс-валидации\n",
        "result_cv = pd.DataFrame(grid_search_1.cv_results_)\n",
        "result_cv.head(2)"
      ]
    },
    {
      "cell_type": "code",
      "execution_count": 31,
      "metadata": {},
      "outputs": [
        {
          "data": {
            "image/png": "[encoded data removed]",
            "text/plain": [
              "<Figure size 800x550 with 2 Axes>"
            ]
          },
          "metadata": {},
          "output_type": "display_data"
        }
      ],
      "source": [
        "# Точность при различных гиперпараметрах\n",
        "visual = pd.pivot_table(pd.DataFrame(grid_search_1.cv_results_),\n",
        "                        values='mean_test_score', index='param_C',\n",
        "                        columns='param_solver')\n",
        "sns.heatmap(visual)\n",
        "plt.title('Тепловая карта зависимости метрики accuracy от solver и С') # подпись графика\n",
        "sns.set(rc={'figure.figsize':(12, 8)}) # задаем размер графика"
      ]
    },
    {
      "cell_type": "markdown",
      "metadata": {},
      "source": [
        "### <center> **RandomizedSearchCV**"
      ]
    },
    {
      "cell_type": "code",
      "execution_count": 34,
      "metadata": {},
      "outputs": [
        {
          "name": "stdout",
          "output_type": "stream",
          "text": [
            "CPU times: total: 13.7 s\n",
            "Wall time: 4min 55s\n",
            "accuracy на тестовом наборе: 0.76\n",
            "f1_score на тестовом наборе: 0.78\n",
            "Наилучшие значения гиперпараметров: {'solver': 'sag', 'penalty': 'l2', 'C': 0.23}\n"
          ]
        }
      ],
      "source": [
        "# Логистическая регрессия\n",
        "param_distributions = {'penalty': ['l2', 'none'] ,\n",
        "              'solver': ['lbfgs', 'sag'],\n",
        "               'C': list(np.linspace(0.01, 1, 10, dtype=float))}\n",
        "            \n",
        "random_search = RandomizedSearchCV(\n",
        "    estimator=linear_model.LogisticRegression(random_state=42, max_iter=50), \n",
        "    param_distributions=param_distributions, \n",
        "    cv=5, \n",
        "    n_iter = 10, \n",
        "    n_jobs = -1\n",
        ")  \n",
        "%time random_search.fit(X_train, y_train) \n",
        "print(\"accuracy на тестовом наборе: {:.2f}\".format(random_search.score(X_test, y_test)))\n",
        "y_test_pred = random_search.predict(X_test)\n",
        "print('f1_score на тестовом наборе: {:.2f}'.format(metrics.f1_score(y_test, y_test_pred)))\n",
        "print(\"Наилучшие значения гиперпараметров: {}\".format(random_search.best_params_))"
      ]
    },
    {
      "cell_type": "markdown",
      "metadata": {},
      "source": [
        "Значение метрик остается на уровне параметров, заданных по-умолчанию."
      ]
    },
    {
      "cell_type": "code",
      "execution_count": 35,
      "metadata": {},
      "outputs": [
        {
          "name": "stdout",
          "output_type": "stream",
          "text": [
            "CPU times: total: 797 ms\n",
            "Wall time: 16.5 s\n",
            "f1_score на обучающем наборе: 0.94\n",
            "accuracy на тестовом наборе: 0.81\n",
            "f1_score на тестовом наборе: 0.83\n",
            "Наилучшие значения гиперпараметров: {'n_estimators': 80, 'min_samples_leaf': 5, 'max_depth': 22}\n"
          ]
        }
      ],
      "source": [
        "# Случайный лес\n",
        "param_distributions = {'n_estimators': list(range(80, 200, 30)),\n",
        "              'min_samples_leaf': [5],\n",
        "              'max_depth': list(np.linspace(20, 40, 10, dtype=int))\n",
        "              }\n",
        "            \n",
        "random_search_forest = RandomizedSearchCV(\n",
        "    estimator=ensemble.RandomForestClassifier(random_state=42), \n",
        "    param_distributions=param_distributions, \n",
        "    cv=5,\n",
        "    n_iter = 10, \n",
        "    n_jobs = -1\n",
        ")  \n",
        "%time random_search_forest.fit(X_train, y_train) \n",
        "y_train_pred = random_search_forest.predict(X_train)\n",
        "print('f1_score на обучающем наборе: {:.2f}'.format(metrics.f1_score(y_train, y_train_pred)))\n",
        "print(\"accuracy на тестовом наборе: {:.2f}\".format(random_search_forest.score(X_test, y_test)))\n",
        "y_test_pred = random_search_forest.predict(X_test)\n",
        "print('f1_score на тестовом наборе: {:.2f}'.format(metrics.f1_score(y_test, y_test_pred)))\n",
        "print(\"Наилучшие значения гиперпараметров: {}\".format(random_search_forest.best_params_))"
      ]
    },
    {
      "cell_type": "markdown",
      "metadata": {},
      "source": [
        "Результаты немного выше, чем в методе GridSearchCV."
      ]
    },
    {
      "cell_type": "markdown",
      "metadata": {},
      "source": [
        "### **Вывод по базовой оптимизации:**\n",
        "На множестве примеров нам удалось продемонстрировать более эффективную и быструю работу RandomizedSearchCV над GridSearchCV."
      ]
    },
    {
      "cell_type": "markdown",
      "metadata": {},
      "source": [
        "## Продвинутая оптимизация:"
      ]
    },
    {
      "cell_type": "markdown",
      "metadata": {},
      "source": [
        "### <center> **Hyperopt**\n",
        "### <center> **(Случайный лест)**"
      ]
    },
    {
      "cell_type": "code",
      "execution_count": 39,
      "metadata": {},
      "outputs": [],
      "source": [
        "# Зададим пространство поиска гиперпараметров\n",
        "space={'n_estimators': hp.quniform('n_estimators', 100, 200, 1),\n",
        "       'max_depth' : hp.quniform('max_depth', 15, 26, 1),\n",
        "       'min_samples_leaf': hp.quniform('min_samples_leaf', 2, 10, 1)\n",
        "      }"
      ]
    },
    {
      "cell_type": "code",
      "execution_count": 40,
      "metadata": {},
      "outputs": [],
      "source": [
        "# Зафксируем random_state\n",
        "random_state = 42\n",
        "def hyperopt_rf(params, cv=5, X=X_train, y=y_train, random_state=random_state):\n",
        "    # Функция получает комбинацию гиперпараметров в \"params\"\n",
        "    params = {'n_estimators': int(params['n_estimators']), \n",
        "              'max_depth': int(params['max_depth']), \n",
        "             'min_samples_leaf': int(params['min_samples_leaf'])\n",
        "              }\n",
        "  \n",
        "    # Построение модели Случайный лес\n",
        "    model = ensemble.RandomForestClassifier(**params, random_state=random_state)\n",
        "\n",
        "    # Обучаем модель\n",
        "    model.fit(X, y)\n",
        "    score = metrics.f1_score(y, model.predict(X))\n",
        "    \n",
        "    # С кросс-валидацией\n",
        "    score = cross_val_score(model, X, y, cv=cv, scoring=\"f1\", n_jobs=-1).mean()\n",
        "\n",
        "    # Метрику необходимо минимизировать, поэтому ставим знак минус\n",
        "    return -score"
      ]
    },
    {
      "cell_type": "code",
      "execution_count": 41,
      "metadata": {},
      "outputs": [
        {
          "name": "stdout",
          "output_type": "stream",
          "text": [
            "  0%|          | 0/20 [00:00<?, ?trial/s, best loss=?]"
          ]
        },
        {
          "name": "stdout",
          "output_type": "stream",
          "text": [
            "100%|██████████| 20/20 [02:03<00:00,  6.17s/trial, best loss: -0.8080577050312506]\n",
            "Наилучшие значения гиперпараметров {'max_depth': 18.0, 'min_samples_leaf': 2.0, 'n_estimators': 103.0}\n",
            "CPU times: total: 16.1 s\n",
            "Wall time: 2min 3s\n"
          ]
        }
      ],
      "source": [
        "%%time\n",
        "# Начинаем подбор гиперпараметров\n",
        "\n",
        "trials = Trials() # используется для логирования результатов\n",
        "\n",
        "best=fmin(hyperopt_rf, # наша функция \n",
        "          space=space, # пространство гиперпараметров\n",
        "          algo=tpe.suggest, # алгоритм оптимизации, установлен по умолчанию, задавать необязательно\n",
        "          max_evals=50, # максимальное количество итераций\n",
        "          trials=trials, # логирование результатов\n",
        "          rstate=np.random.default_rng(random_state)# фиксируем для повторяемости результата\n",
        "         )\n",
        "print(\"Наилучшие значения гиперпараметров {}\".format(best))"
      ]
    },
    {
      "cell_type": "code",
      "execution_count": 42,
      "metadata": {},
      "outputs": [
        {
          "name": "stdout",
          "output_type": "stream",
          "text": [
            "f1_score на обучающем наборе: 0.99\n",
            "accuracy на тестовом наборе: 0.80\n",
            "f1_score на тестовом наборе: 0.82\n"
          ]
        }
      ],
      "source": [
        "# Рассчитаем точность для тестовой выборки\n",
        "model = ensemble.RandomForestClassifier(\n",
        "    random_state=random_state, \n",
        "    n_estimators=int(best['n_estimators']),\n",
        "    max_depth=int(best['max_depth']),\n",
        "    min_samples_leaf=int(best['min_samples_leaf'])\n",
        ")\n",
        "model.fit(X_train, y_train)\n",
        "y_train_pred = model.predict(X_train)\n",
        "print('f1_score на обучающем наборе: {:.2f}'.format(metrics.f1_score(y_train, y_train_pred)))\n",
        "print(\"accuracy на тестовом наборе: {:.2f}\".format(model.score(X_test, y_test)))\n",
        "y_test_pred = model.predict(X_test)\n",
        "print('f1_score на тестовом наборе: {:.2f}'.format(metrics.f1_score(y_test, y_test_pred)))"
      ]
    },
    {
      "cell_type": "markdown",
      "metadata": {},
      "source": [
        "Можем продолжить поиск гиперпараметров, чтобы улучшить результаты, т.к. для байесовских оптимизаторов это возможнопотому, что они ориентируются на прошлые результаты: предыдущие входные данные для целевой функции и результирующие потери."
      ]
    },
    {
      "cell_type": "code",
      "execution_count": 43,
      "metadata": {},
      "outputs": [
        {
          "name": "stdout",
          "output_type": "stream",
          "text": [
            "100%|██████████| 23/23 [00:23<00:00,  7.78s/trial, best loss: -0.8120423125971236]\n",
            "Наилучшие значения гиперпараметров {'max_depth': 20.0, 'min_samples_leaf': 2.0, 'n_estimators': 160.0}\n"
          ]
        }
      ],
      "source": [
        "# Увеличиваем max_evals(должен быть строго больше, чем на предыдуших итерациях) и используем старый trials\n",
        "best=fmin(hyperopt_rf, # наша функция \n",
        "          space=space, # пространство гиперпараметров\n",
        "          algo=tpe.suggest, # алгоритм оптимизации, установлен по умолчанию, задавать необязательно\n",
        "          max_evals=23, # максимальное количество итераций\n",
        "          trials=trials, # логирование результатов\n",
        "          rstate=np.random.default_rng(random_state)# фиксируем для повторяемости результата\n",
        "         )\n",
        "print(\"Наилучшие значения гиперпараметров {}\".format(best))"
      ]
    },
    {
      "cell_type": "code",
      "execution_count": 44,
      "metadata": {},
      "outputs": [
        {
          "name": "stdout",
          "output_type": "stream",
          "text": [
            "f1_score на обучающем наборе: 0.99\n",
            "accuracy на тестовом наборе: 0.81\n",
            "f1_score на тестовом наборе: 0.83\n"
          ]
        }
      ],
      "source": [
        "# Рассчитаем точность для тестовой выборки\n",
        "model = ensemble.RandomForestClassifier(\n",
        "    random_state=random_state, \n",
        "    n_estimators=int(best['n_estimators']),\n",
        "    max_depth=int(best['max_depth']),\n",
        "    min_samples_leaf=int(best['min_samples_leaf'])\n",
        ")\n",
        "model.fit(X_train, y_train)\n",
        "y_train_pred = model.predict(X_train)\n",
        "print('f1_score на обучающем наборе: {:.2f}'.format(metrics.f1_score(y_train, y_train_pred)))\n",
        "print(\"accuracy на тестовом наборе: {:.2f}\".format(model.score(X_test, y_test)))\n",
        "y_test_pred = model.predict(X_test)\n",
        "print('f1_score на тестовом наборе: {:.2f}'.format(metrics.f1_score(y_test, y_test_pred)))"
      ]
    },
    {
      "cell_type": "markdown",
      "metadata": {},
      "source": [
        "Результат показывает, что Hyperot смог улучшить нашу метрику в методе обучения модели \"Случайный лес\", но остатется высоким значение метрики в обучающем наборе данных, что может свидетельствовать о переобучении модели."
      ]
    },
    {
      "cell_type": "code",
      "execution_count": 45,
      "metadata": {},
      "outputs": [
        {
          "data": {
            "image/png": "[encoded data removed]",
            "text/plain": [
              "<Figure size 1000x1000 with 3 Axes>"
            ]
          },
          "metadata": {},
          "output_type": "display_data"
        }
      ],
      "source": [
        "# Диаграммы показателей точности при различных гиперпараметрах\n",
        "tpe_results=np.array([[x['result']['loss'],\n",
        "                      x['misc']['vals']['max_depth'][0],\n",
        "                      x['misc']['vals']['n_estimators'][0]] for x in trials.trials])\n",
        "\n",
        "tpe_results_df=pd.DataFrame(tpe_results,\n",
        "                           columns=['score', 'max_depth', 'n_estimators'])\n",
        "# Тепловая карта в данном случае не очень наглядна, возьмем линейный график\n",
        "tpe_results_df.plot(subplots=True,figsize=(10, 10));"
      ]
    },
    {
      "cell_type": "markdown",
      "metadata": {},
      "source": [
        "### <center> **Hyperopt**\n",
        "### <center> **(Логистическая регрессия)**"
      ]
    },
    {
      "cell_type": "code",
      "execution_count": 98,
      "metadata": {},
      "outputs": [],
      "source": [
        "# Зададим пространство поиска гиперпараметров\n",
        "pen = ['l1', 'l2']\n",
        "sol = ['liblinear', 'saga']\n",
        "space_lr={'penalty': hp.choice('penalty', ['l1', 'l2']), # тип регуляризации\n",
        "       'solver': hp.choice('solver', ['liblinear', 'saga']), # алгоритм оптимизации\n",
        "       'C': hp.uniform('C', low=0.01, high=1) # уровень силы регурялизации\n",
        "      }\n",
        "\n",
        "trials = Trials() # используется для логирования результатов"
      ]
    },
    {
      "cell_type": "code",
      "execution_count": 93,
      "metadata": {},
      "outputs": [],
      "source": [
        "# Функция\n",
        "def hyperopt_lr(params, cv=5, X=X_train, y=y_train, random_state=random_state):\n",
        "    # Функция получает комбинацию гиперпараметров в \"params\"\n",
        "    params = {'penalty': str(params['penalty']), \n",
        "              'solver': str(params['solver']), \n",
        "             'C': float(params['C'])\n",
        "              }\n",
        "    # Используем эту комбинацию для построения модели\n",
        "    model = linear_model.LogisticRegression(**params, random_state=random_state)\n",
        "    # Обучаем модель\n",
        "    model.fit(X, y)\n",
        "    #score = metrics.f1_score(y,model.predict(X))\n",
        "    score = cross_val_score(model, X, y, cv=cv, scoring=\"f1\", n_jobs=-1).mean() # с кросс-валидацией\n",
        "    # Метрику необходимо минимизировать, поэтому ставим знак минус\n",
        "    return -score"
      ]
    },
    {
      "cell_type": "code",
      "execution_count": 94,
      "metadata": {},
      "outputs": [
        {
          "name": "stdout",
          "output_type": "stream",
          "text": [
            "100%|██████████| 50/50 [06:25<00:00,  7.71s/trial, best loss: -0.7843573900686336]\n",
            "Наилучшие значения гиперпараметров {'C': 0.11205124547519595, 'penalty': 0, 'solver': 1}\n",
            "CPU times: total: 36.7 s\n",
            "Wall time: 6min 25s\n"
          ]
        }
      ],
      "source": [
        "%%time\n",
        "\n",
        "# Начинаем подбор гиперпараметров\n",
        "best=fmin(hyperopt_lr, # наша функция \n",
        "          space=space_lr, # пространство гиперпараметров\n",
        "          algo=tpe.suggest, # алгоритм оптимизации, установлен по умолчанию, задавать необязательно\n",
        "          max_evals=50, # максимальное количество итераций\n",
        "          trials=trials, # логирование результатов\n",
        "          rstate=np.random.default_rng(random_state)# фиксируем для повторяемости результата\n",
        "         )\n",
        "print(\"Наилучшие значения гиперпараметров {}\".format(best))"
      ]
    },
    {
      "cell_type": "code",
      "execution_count": 99,
      "metadata": {},
      "outputs": [
        {
          "name": "stdout",
          "output_type": "stream",
          "text": [
            "f1_score на обучающем наборе: 0.81\n",
            "accuracy на тестовом наборе: 0.76\n",
            "f1_score на тестовом наборе: 0.79\n"
          ]
        }
      ],
      "source": [
        "model = linear_model.LogisticRegression(\n",
        "    random_state=random_state, \n",
        "    penalty=pen[best['penalty']],\n",
        "    solver=sol[best['solver']],\n",
        "    C=float(best['C'])\n",
        ")\n",
        "model.fit(X_train, y_train)\n",
        "y_train_pred = model.predict(X_train)\n",
        "print('f1_score на обучающем наборе: {:.2f}'.format(metrics.f1_score(y_train, y_train_pred)))\n",
        "print(\"accuracy на тестовом наборе: {:.2f}\".format(model.score(X_test, y_test)))\n",
        "y_test_pred = model.predict(X_test)\n",
        "print('f1_score на тестовом наборе: {:.2f}'.format(metrics.f1_score(y_test, y_test_pred)))"
      ]
    },
    {
      "cell_type": "markdown",
      "metadata": {},
      "source": [
        "Очень хорошие показатели выбранной метрики. Удалось победить переобучение."
      ]
    },
    {
      "cell_type": "markdown",
      "metadata": {},
      "source": [
        "### <center> **Optuna**\n",
        "### <center> **(Случайный лест)**"
      ]
    },
    {
      "cell_type": "code",
      "execution_count": 100,
      "metadata": {},
      "outputs": [],
      "source": [
        "# Настроим оптимизацию гиперпараметров для алгоритма случайного леса\n",
        "def optuna_rf(trial):\n",
        "  # Задаем пространства поиска гиперпараметров\n",
        "  n_estimators = trial.suggest_int('n_estimators', 100, 200, 1)\n",
        "  max_depth = trial.suggest_int('max_depth', 10, 30, 1)\n",
        "  min_samples_leaf = trial.suggest_int('min_samples_leaf', 2, 10, 1)\n",
        "\n",
        "  # Создаем модель\n",
        "  model = ensemble.RandomForestClassifier(n_estimators=n_estimators,\n",
        "                                          max_depth=max_depth,\n",
        "                                          min_samples_leaf=min_samples_leaf,\n",
        "                                          random_state=random_state)\n",
        "  # Обучаем модель\n",
        "  model.fit(X_train, y_train)\n",
        "  score = metrics.f1_score(y_train, model.predict(X_train))\n",
        "\n",
        "  return score"
      ]
    },
    {
      "cell_type": "code",
      "execution_count": 101,
      "metadata": {},
      "outputs": [
        {
          "name": "stderr",
          "output_type": "stream",
          "text": [
            "[I 2024-02-20 17:37:58,077] A new study created in memory with name: RandomForestClassifier\n",
            "[I 2024-02-20 17:38:00,947] Trial 0 finished with value: 0.9514800122062863 and parameters: {'n_estimators': 149, 'max_depth': 15, 'min_samples_leaf': 4}. Best is trial 0 with value: 0.9514800122062863.\n",
            "[I 2024-02-20 17:38:03,085] Trial 1 finished with value: 0.925473427000611 and parameters: {'n_estimators': 135, 'max_depth': 17, 'min_samples_leaf': 7}. Best is trial 0 with value: 0.9514800122062863.\n",
            "[I 2024-02-20 17:38:05,788] Trial 2 finished with value: 0.9367552703941339 and parameters: {'n_estimators': 152, 'max_depth': 11, 'min_samples_leaf': 3}. Best is trial 0 with value: 0.9514800122062863.\n",
            "[I 2024-02-20 17:38:07,443] Trial 3 finished with value: 0.9234537660747091 and parameters: {'n_estimators': 105, 'max_depth': 10, 'min_samples_leaf': 3}. Best is trial 0 with value: 0.9514800122062863.\n",
            "[I 2024-02-20 17:38:09,562] Trial 4 finished with value: 0.9767726161369193 and parameters: {'n_estimators': 118, 'max_depth': 21, 'min_samples_leaf': 3}. Best is trial 4 with value: 0.9767726161369193.\n",
            "[I 2024-02-20 17:38:11,604] Trial 5 finished with value: 0.8834771886559802 and parameters: {'n_estimators': 158, 'max_depth': 11, 'min_samples_leaf': 10}. Best is trial 4 with value: 0.9767726161369193.\n",
            "[I 2024-02-20 17:38:14,475] Trial 6 finished with value: 0.9908144519289651 and parameters: {'n_estimators': 143, 'max_depth': 28, 'min_samples_leaf': 2}. Best is trial 6 with value: 0.9908144519289651.\n",
            "[I 2024-02-20 17:38:17,745] Trial 7 finished with value: 0.9825741363497401 and parameters: {'n_estimators': 172, 'max_depth': 15, 'min_samples_leaf': 2}. Best is trial 6 with value: 0.9908144519289651.\n",
            "[I 2024-02-20 17:38:19,734] Trial 8 finished with value: 0.9092570036540805 and parameters: {'n_estimators': 147, 'max_depth': 27, 'min_samples_leaf': 9}. Best is trial 6 with value: 0.9908144519289651.\n",
            "[I 2024-02-20 17:38:21,960] Trial 9 finished with value: 0.9011930253900275 and parameters: {'n_estimators': 159, 'max_depth': 21, 'min_samples_leaf': 10}. Best is trial 6 with value: 0.9908144519289651.\n",
            "[I 2024-02-20 17:38:25,378] Trial 10 finished with value: 0.9351285189718482 and parameters: {'n_estimators': 199, 'max_depth': 30, 'min_samples_leaf': 6}. Best is trial 6 with value: 0.9908144519289651.\n",
            "[I 2024-02-20 17:38:29,446] Trial 11 finished with value: 0.992651561543172 and parameters: {'n_estimators': 181, 'max_depth': 25, 'min_samples_leaf': 2}. Best is trial 11 with value: 0.992651561543172.\n",
            "[I 2024-02-20 17:38:32,646] Trial 12 finished with value: 0.9465974977113213 and parameters: {'n_estimators': 186, 'max_depth': 26, 'min_samples_leaf': 5}. Best is trial 11 with value: 0.992651561543172.\n",
            "[I 2024-02-20 17:38:35,801] Trial 13 finished with value: 0.9917254060680356 and parameters: {'n_estimators': 130, 'max_depth': 24, 'min_samples_leaf': 2}. Best is trial 11 with value: 0.992651561543172.\n",
            "[I 2024-02-20 17:38:38,013] Trial 14 finished with value: 0.9443765281173593 and parameters: {'n_estimators': 125, 'max_depth': 23, 'min_samples_leaf': 5}. Best is trial 11 with value: 0.992651561543172.\n",
            "[I 2024-02-20 17:38:41,765] Trial 15 finished with value: 0.9914268218003673 and parameters: {'n_estimators': 173, 'max_depth': 24, 'min_samples_leaf': 2}. Best is trial 11 with value: 0.992651561543172.\n",
            "[I 2024-02-20 17:38:44,732] Trial 16 finished with value: 0.915876414805751 and parameters: {'n_estimators': 200, 'max_depth': 24, 'min_samples_leaf': 8}. Best is trial 11 with value: 0.992651561543172.\n",
            "[I 2024-02-20 17:38:46,606] Trial 17 finished with value: 0.956548347613219 and parameters: {'n_estimators': 101, 'max_depth': 19, 'min_samples_leaf': 4}. Best is trial 11 with value: 0.992651561543172.\n",
            "[I 2024-02-20 17:38:49,706] Trial 18 finished with value: 0.9577205882352942 and parameters: {'n_estimators': 171, 'max_depth': 30, 'min_samples_leaf': 4}. Best is trial 11 with value: 0.992651561543172.\n",
            "[I 2024-02-20 17:38:51,779] Trial 19 finished with value: 0.9359485136377567 and parameters: {'n_estimators': 124, 'max_depth': 26, 'min_samples_leaf': 6}. Best is trial 11 with value: 0.992651561543172.\n",
            "[I 2024-02-20 17:38:54,702] Trial 20 finished with value: 0.9914163090128756 and parameters: {'n_estimators': 135, 'max_depth': 23, 'min_samples_leaf': 2}. Best is trial 11 with value: 0.992651561543172.\n",
            "[I 2024-02-20 17:38:58,527] Trial 21 finished with value: 0.992651561543172 and parameters: {'n_estimators': 178, 'max_depth': 25, 'min_samples_leaf': 2}. Best is trial 11 with value: 0.992651561543172.\n",
            "[I 2024-02-20 17:39:02,405] Trial 22 finished with value: 0.977655341291705 and parameters: {'n_estimators': 187, 'max_depth': 28, 'min_samples_leaf': 3}. Best is trial 11 with value: 0.992651561543172.\n",
            "[I 2024-02-20 17:39:06,526] Trial 23 finished with value: 0.9920343137254902 and parameters: {'n_estimators': 183, 'max_depth': 24, 'min_samples_leaf': 2}. Best is trial 11 with value: 0.992651561543172.\n",
            "[I 2024-02-20 17:39:10,298] Trial 24 finished with value: 0.9776416539050536 and parameters: {'n_estimators': 186, 'max_depth': 22, 'min_samples_leaf': 3}. Best is trial 11 with value: 0.992651561543172.\n",
            "[I 2024-02-20 17:39:13,310] Trial 25 finished with value: 0.946886446886447 and parameters: {'n_estimators': 180, 'max_depth': 19, 'min_samples_leaf': 5}. Best is trial 11 with value: 0.992651561543172.\n",
            "[I 2024-02-20 17:39:16,248] Trial 26 finished with value: 0.9571078431372549 and parameters: {'n_estimators': 163, 'max_depth': 26, 'min_samples_leaf': 4}. Best is trial 11 with value: 0.992651561543172.\n",
            "[I 2024-02-20 17:39:20,327] Trial 27 finished with value: 0.9932598039215688 and parameters: {'n_estimators': 194, 'max_depth': 25, 'min_samples_leaf': 2}. Best is trial 27 with value: 0.9932598039215688.\n",
            "[I 2024-02-20 17:39:24,041] Trial 28 finished with value: 0.978267523722069 and parameters: {'n_estimators': 193, 'max_depth': 28, 'min_samples_leaf': 3}. Best is trial 27 with value: 0.9932598039215688.\n",
            "[I 2024-02-20 17:39:27,424] Trial 29 finished with value: 0.9574533210896847 and parameters: {'n_estimators': 177, 'max_depth': 25, 'min_samples_leaf': 4}. Best is trial 27 with value: 0.9932598039215688.\n",
            "[I 2024-02-20 17:39:29,878] Trial 30 finished with value: 0.9276335877862595 and parameters: {'n_estimators': 166, 'max_depth': 18, 'min_samples_leaf': 7}. Best is trial 27 with value: 0.9932598039215688.\n",
            "[I 2024-02-20 17:39:34,040] Trial 31 finished with value: 0.9920391916717698 and parameters: {'n_estimators': 192, 'max_depth': 22, 'min_samples_leaf': 2}. Best is trial 27 with value: 0.9932598039215688.\n",
            "[I 2024-02-20 17:39:38,445] Trial 32 finished with value: 0.9917304747320062 and parameters: {'n_estimators': 192, 'max_depth': 21, 'min_samples_leaf': 2}. Best is trial 27 with value: 0.9932598039215688.\n",
            "[I 2024-02-20 17:39:44,004] Trial 33 finished with value: 0.977655341291705 and parameters: {'n_estimators': 192, 'max_depth': 22, 'min_samples_leaf': 3}. Best is trial 27 with value: 0.9932598039215688.\n",
            "[I 2024-02-20 17:39:50,480] Trial 34 finished with value: 0.9858982219497242 and parameters: {'n_estimators': 194, 'max_depth': 16, 'min_samples_leaf': 2}. Best is trial 27 with value: 0.9932598039215688.\n",
            "[I 2024-02-20 17:39:56,449] Trial 35 finished with value: 0.97796817625459 and parameters: {'n_estimators': 200, 'max_depth': 25, 'min_samples_leaf': 3}. Best is trial 27 with value: 0.9932598039215688.\n",
            "[I 2024-02-20 17:40:01,787] Trial 36 finished with value: 0.9776416539050536 and parameters: {'n_estimators': 178, 'max_depth': 22, 'min_samples_leaf': 3}. Best is trial 27 with value: 0.9932598039215688.\n",
            "[I 2024-02-20 17:40:07,394] Trial 37 finished with value: 0.9547953573610263 and parameters: {'n_estimators': 167, 'max_depth': 20, 'min_samples_leaf': 4}. Best is trial 27 with value: 0.9932598039215688.\n",
            "[I 2024-02-20 17:40:12,568] Trial 38 finished with value: 0.9923430321592649 and parameters: {'n_estimators': 188, 'max_depth': 29, 'min_samples_leaf': 2}. Best is trial 27 with value: 0.9932598039215688.\n",
            "[I 2024-02-20 17:40:16,578] Trial 39 finished with value: 0.9770150168556543 and parameters: {'n_estimators': 152, 'max_depth': 29, 'min_samples_leaf': 3}. Best is trial 27 with value: 0.9932598039215688.\n",
            "[I 2024-02-20 17:40:20,999] Trial 40 finished with value: 0.9701583434835567 and parameters: {'n_estimators': 181, 'max_depth': 13, 'min_samples_leaf': 2}. Best is trial 27 with value: 0.9932598039215688.\n",
            "[I 2024-02-20 17:40:26,145] Trial 41 finished with value: 0.992651561543172 and parameters: {'n_estimators': 191, 'max_depth': 27, 'min_samples_leaf': 2}. Best is trial 27 with value: 0.9932598039215688.\n",
            "[I 2024-02-20 17:40:31,007] Trial 42 finished with value: 0.9776690119302539 and parameters: {'n_estimators': 188, 'max_depth': 27, 'min_samples_leaf': 3}. Best is trial 27 with value: 0.9932598039215688.\n",
            "[I 2024-02-20 17:40:35,569] Trial 43 finished with value: 0.992347719620447 and parameters: {'n_estimators': 177, 'max_depth': 27, 'min_samples_leaf': 2}. Best is trial 27 with value: 0.9932598039215688.\n",
            "[I 2024-02-20 17:40:40,588] Trial 44 finished with value: 0.992347719620447 and parameters: {'n_estimators': 175, 'max_depth': 27, 'min_samples_leaf': 2}. Best is trial 27 with value: 0.9932598039215688.\n",
            "[I 2024-02-20 17:40:45,146] Trial 45 finished with value: 0.9770150168556543 and parameters: {'n_estimators': 157, 'max_depth': 25, 'min_samples_leaf': 3}. Best is trial 27 with value: 0.9932598039215688.\n",
            "[I 2024-02-20 17:40:50,696] Trial 46 finished with value: 0.9926470588235294 and parameters: {'n_estimators': 196, 'max_depth': 28, 'min_samples_leaf': 2}. Best is trial 27 with value: 0.9932598039215688.\n",
            "[I 2024-02-20 17:40:56,305] Trial 47 finished with value: 0.992951271835734 and parameters: {'n_estimators': 195, 'max_depth': 29, 'min_samples_leaf': 2}. Best is trial 27 with value: 0.9932598039215688.\n",
            "[I 2024-02-20 17:41:01,760] Trial 48 finished with value: 0.97796817625459 and parameters: {'n_estimators': 184, 'max_depth': 25, 'min_samples_leaf': 3}. Best is trial 27 with value: 0.9932598039215688.\n",
            "[I 2024-02-20 17:41:04,943] Trial 49 finished with value: 0.9089798411728772 and parameters: {'n_estimators': 170, 'max_depth': 29, 'min_samples_leaf': 9}. Best is trial 27 with value: 0.9932598039215688.\n"
          ]
        },
        {
          "name": "stdout",
          "output_type": "stream",
          "text": [
            "CPU times: total: 52.2 s\n",
            "Wall time: 3min 6s\n"
          ]
        }
      ],
      "source": [
        "%%time\n",
        "# Создаем объект исследования\n",
        "# можем напрямую указать, что нам необходимо максимизировать метрику direction=\"maximize\"\n",
        "study = optuna.create_study(study_name=\"RandomForestClassifier\", direction=\"maximize\")\n",
        "# Ищем лучшую комбинацию гиперпараметров n_trials раз\n",
        "study.optimize(optuna_rf, n_trials=50)"
      ]
    },
    {
      "cell_type": "code",
      "execution_count": 102,
      "metadata": {},
      "outputs": [
        {
          "name": "stdout",
          "output_type": "stream",
          "text": [
            "Наилучшие значения гиперпараметров {'n_estimators': 194, 'max_depth': 25, 'min_samples_leaf': 2}\n",
            "f1_score на обучающем наборе: 0.99\n"
          ]
        }
      ],
      "source": [
        "# Выводим результаты на обучающей выборке\n",
        "print(\"Наилучшие значения гиперпараметров {}\".format(study.best_params))\n",
        "print(\"f1_score на обучающем наборе: {:.2f}\".format(study.best_value))"
      ]
    },
    {
      "cell_type": "markdown",
      "metadata": {},
      "source": [
        "Высокий показатель метрики на обучающем наборе. Возможно снова переобучение."
      ]
    },
    {
      "cell_type": "code",
      "execution_count": 103,
      "metadata": {},
      "outputs": [
        {
          "name": "stdout",
          "output_type": "stream",
          "text": [
            "accuracy на тестовом наборе: 0.80\n",
            "f1_score на тестовом наборе: 0.82\n"
          ]
        }
      ],
      "source": [
        "# Рассчитаем точность для тестовой выборки\n",
        "model = ensemble.RandomForestClassifier(**study.best_params,random_state=random_state, )\n",
        "model.fit(X_train, y_train)\n",
        "y_train_pred = model.predict(X_train)\n",
        "print(\"accuracy на тестовом наборе: {:.2f}\".format(model.score(X_test, y_test)))\n",
        "y_test_pred = model.predict(X_test)\n",
        "print('f1_score на тестовом наборе: {:.2f}'.format(metrics.f1_score(y_test, y_test_pred)))"
      ]
    },
    {
      "cell_type": "markdown",
      "metadata": {},
      "source": [
        "Показатель метрики на тестовом наборе данных удалось улучшить, имеет довольно высокое значение."
      ]
    },
    {
      "cell_type": "code",
      "execution_count": 104,
      "metadata": {},
      "outputs": [
        {
          "data": {
            "application/vnd.plotly.v1+json": {
              "config": {
                "plotlyServerURL": "https://plot.ly"
              },
              "data": [
                {
                  "mode": "markers",
                  "name": "f1_score",
                  "type": "scatter",
                  "x": [
                    0,
                    1,
                    2,
                    3,
                    4,
                    5,
                    6,
                    7,
                    8,
                    9,
                    10,
                    11,
                    12,
                    13,
                    14,
                    15,
                    16,
                    17,
                    18,
                    19,
                    20,
                    21,
                    22,
                    23,
                    24,
                    25,
                    26,
                    27,
                    28,
                    29,
                    30,
                    31,
                    32,
                    33,
                    34,
                    35,
                    36,
                    37,
                    38,
                    39,
                    40,
                    41,
                    42,
                    43,
                    44,
                    45,
                    46,
                    47,
                    48,
                    49
                  ],
                  "y": [
                    0.9514800122062863,
                    0.925473427000611,
                    0.9367552703941339,
                    0.9234537660747091,
                    0.9767726161369193,
                    0.8834771886559802,
                    0.9908144519289651,
                    0.9825741363497401,
                    0.9092570036540805,
                    0.9011930253900275,
                    0.9351285189718482,
                    0.992651561543172,
                    0.9465974977113213,
                    0.9917254060680356,
                    0.9443765281173593,
                    0.9914268218003673,
                    0.915876414805751,
                    0.956548347613219,
                    0.9577205882352942,
                    0.9359485136377567,
                    0.9914163090128756,
                    0.992651561543172,
                    0.977655341291705,
                    0.9920343137254902,
                    0.9776416539050536,
                    0.946886446886447,
                    0.9571078431372549,
                    0.9932598039215688,
                    0.978267523722069,
                    0.9574533210896847,
                    0.9276335877862595,
                    0.9920391916717698,
                    0.9917304747320062,
                    0.977655341291705,
                    0.9858982219497242,
                    0.97796817625459,
                    0.9776416539050536,
                    0.9547953573610263,
                    0.9923430321592649,
                    0.9770150168556543,
                    0.9701583434835567,
                    0.992651561543172,
                    0.9776690119302539,
                    0.992347719620447,
                    0.992347719620447,
                    0.9770150168556543,
                    0.9926470588235294,
                    0.992951271835734,
                    0.97796817625459,
                    0.9089798411728772
                  ]
                },
                {
                  "mode": "lines",
                  "name": "Best Value",
                  "type": "scatter",
                  "x": [
                    0,
                    1,
                    2,
                    3,
                    4,
                    5,
                    6,
                    7,
                    8,
                    9,
                    10,
                    11,
                    12,
                    13,
                    14,
                    15,
                    16,
                    17,
                    18,
                    19,
                    20,
                    21,
                    22,
                    23,
                    24,
                    25,
                    26,
                    27,
                    28,
                    29,
                    30,
                    31,
                    32,
                    33,
                    34,
                    35,
                    36,
                    37,
                    38,
                    39,
                    40,
                    41,
                    42,
                    43,
                    44,
                    45,
                    46,
                    47,
                    48,
                    49
                  ],
                  "y": [
                    0.9514800122062863,
                    0.9514800122062863,
                    0.9514800122062863,
                    0.9514800122062863,
                    0.9767726161369193,
                    0.9767726161369193,
                    0.9908144519289651,
                    0.9908144519289651,
                    0.9908144519289651,
                    0.9908144519289651,
                    0.9908144519289651,
                    0.992651561543172,
                    0.992651561543172,
                    0.992651561543172,
                    0.992651561543172,
                    0.992651561543172,
                    0.992651561543172,
                    0.992651561543172,
                    0.992651561543172,
                    0.992651561543172,
                    0.992651561543172,
                    0.992651561543172,
                    0.992651561543172,
                    0.992651561543172,
                    0.992651561543172,
                    0.992651561543172,
                    0.992651561543172,
                    0.9932598039215688,
                    0.9932598039215688,
                    0.9932598039215688,
                    0.9932598039215688,
                    0.9932598039215688,
                    0.9932598039215688,
                    0.9932598039215688,
                    0.9932598039215688,
                    0.9932598039215688,
                    0.9932598039215688,
                    0.9932598039215688,
                    0.9932598039215688,
                    0.9932598039215688,
                    0.9932598039215688,
                    0.9932598039215688,
                    0.9932598039215688,
                    0.9932598039215688,
                    0.9932598039215688,
                    0.9932598039215688,
                    0.9932598039215688,
                    0.9932598039215688,
                    0.9932598039215688,
                    0.9932598039215688
                  ]
                },
                {
                  "marker": {
                    "color": "#cccccc"
                  },
                  "mode": "markers",
                  "name": "Infeasible Trial",
                  "showlegend": false,
                  "type": "scatter",
                  "x": [],
                  "y": []
                }
              ],
              "layout": {
                "template": {
                  "data": {
                    "bar": [
                      {
                        "error_x": {
                          "color": "#2a3f5f"
                        },
                        "error_y": {
                          "color": "#2a3f5f"
                        },
                        "marker": {
                          "line": {
                            "color": "#E5ECF6",
                            "width": 0.5
                          },
                          "pattern": {
                            "fillmode": "overlay",
                            "size": 10,
                            "solidity": 0.2
                          }
                        },
                        "type": "bar"
                      }
                    ],
                    "barpolar": [
                      {
                        "marker": {
                          "line": {
                            "color": "#E5ECF6",
                            "width": 0.5
                          },
                          "pattern": {
                            "fillmode": "overlay",
                            "size": 10,
                            "solidity": 0.2
                          }
                        },
                        "type": "barpolar"
                      }
                    ],
                    "carpet": [
                      {
                        "aaxis": {
                          "endlinecolor": "#2a3f5f",
                          "gridcolor": "white",
                          "linecolor": "white",
                          "minorgridcolor": "white",
                          "startlinecolor": "#2a3f5f"
                        },
                        "baxis": {
                          "endlinecolor": "#2a3f5f",
                          "gridcolor": "white",
                          "linecolor": "white",
                          "minorgridcolor": "white",
                          "startlinecolor": "#2a3f5f"
                        },
                        "type": "carpet"
                      }
                    ],
                    "choropleth": [
                      {
                        "colorbar": {
                          "outlinewidth": 0,
                          "ticks": ""
                        },
                        "type": "choropleth"
                      }
                    ],
                    "contour": [
                      {
                        "colorbar": {
                          "outlinewidth": 0,
                          "ticks": ""
                        },
                        "colorscale": [
                          [
                            0,
                            "#0d0887"
                          ],
                          [
                            0.1111111111111111,
                            "#46039f"
                          ],
                          [
                            0.2222222222222222,
                            "#7201a8"
                          ],
                          [
                            0.3333333333333333,
                            "#9c179e"
                          ],
                          [
                            0.4444444444444444,
                            "#bd3786"
                          ],
                          [
                            0.5555555555555556,
                            "#d8576b"
                          ],
                          [
                            0.6666666666666666,
                            "#ed7953"
                          ],
                          [
                            0.7777777777777778,
                            "#fb9f3a"
                          ],
                          [
                            0.8888888888888888,
                            "#fdca26"
                          ],
                          [
                            1,
                            "#f0f921"
                          ]
                        ],
                        "type": "contour"
                      }
                    ],
                    "contourcarpet": [
                      {
                        "colorbar": {
                          "outlinewidth": 0,
                          "ticks": ""
                        },
                        "type": "contourcarpet"
                      }
                    ],
                    "heatmap": [
                      {
                        "colorbar": {
                          "outlinewidth": 0,
                          "ticks": ""
                        },
                        "colorscale": [
                          [
                            0,
                            "#0d0887"
                          ],
                          [
                            0.1111111111111111,
                            "#46039f"
                          ],
                          [
                            0.2222222222222222,
                            "#7201a8"
                          ],
                          [
                            0.3333333333333333,
                            "#9c179e"
                          ],
                          [
                            0.4444444444444444,
                            "#bd3786"
                          ],
                          [
                            0.5555555555555556,
                            "#d8576b"
                          ],
                          [
                            0.6666666666666666,
                            "#ed7953"
                          ],
                          [
                            0.7777777777777778,
                            "#fb9f3a"
                          ],
                          [
                            0.8888888888888888,
                            "#fdca26"
                          ],
                          [
                            1,
                            "#f0f921"
                          ]
                        ],
                        "type": "heatmap"
                      }
                    ],
                    "heatmapgl": [
                      {
                        "colorbar": {
                          "outlinewidth": 0,
                          "ticks": ""
                        },
                        "colorscale": [
                          [
                            0,
                            "#0d0887"
                          ],
                          [
                            0.1111111111111111,
                            "#46039f"
                          ],
                          [
                            0.2222222222222222,
                            "#7201a8"
                          ],
                          [
                            0.3333333333333333,
                            "#9c179e"
                          ],
                          [
                            0.4444444444444444,
                            "#bd3786"
                          ],
                          [
                            0.5555555555555556,
                            "#d8576b"
                          ],
                          [
                            0.6666666666666666,
                            "#ed7953"
                          ],
                          [
                            0.7777777777777778,
                            "#fb9f3a"
                          ],
                          [
                            0.8888888888888888,
                            "#fdca26"
                          ],
                          [
                            1,
                            "#f0f921"
                          ]
                        ],
                        "type": "heatmapgl"
                      }
                    ],
                    "histogram": [
                      {
                        "marker": {
                          "pattern": {
                            "fillmode": "overlay",
                            "size": 10,
                            "solidity": 0.2
                          }
                        },
                        "type": "histogram"
                      }
                    ],
                    "histogram2d": [
                      {
                        "colorbar": {
                          "outlinewidth": 0,
                          "ticks": ""
                        },
                        "colorscale": [
                          [
                            0,
                            "#0d0887"
                          ],
                          [
                            0.1111111111111111,
                            "#46039f"
                          ],
                          [
                            0.2222222222222222,
                            "#7201a8"
                          ],
                          [
                            0.3333333333333333,
                            "#9c179e"
                          ],
                          [
                            0.4444444444444444,
                            "#bd3786"
                          ],
                          [
                            0.5555555555555556,
                            "#d8576b"
                          ],
                          [
                            0.6666666666666666,
                            "#ed7953"
                          ],
                          [
                            0.7777777777777778,
                            "#fb9f3a"
                          ],
                          [
                            0.8888888888888888,
                            "#fdca26"
                          ],
                          [
                            1,
                            "#f0f921"
                          ]
                        ],
                        "type": "histogram2d"
                      }
                    ],
                    "histogram2dcontour": [
                      {
                        "colorbar": {
                          "outlinewidth": 0,
                          "ticks": ""
                        },
                        "colorscale": [
                          [
                            0,
                            "#0d0887"
                          ],
                          [
                            0.1111111111111111,
                            "#46039f"
                          ],
                          [
                            0.2222222222222222,
                            "#7201a8"
                          ],
                          [
                            0.3333333333333333,
                            "#9c179e"
                          ],
                          [
                            0.4444444444444444,
                            "#bd3786"
                          ],
                          [
                            0.5555555555555556,
                            "#d8576b"
                          ],
                          [
                            0.6666666666666666,
                            "#ed7953"
                          ],
                          [
                            0.7777777777777778,
                            "#fb9f3a"
                          ],
                          [
                            0.8888888888888888,
                            "#fdca26"
                          ],
                          [
                            1,
                            "#f0f921"
                          ]
                        ],
                        "type": "histogram2dcontour"
                      }
                    ],
                    "mesh3d": [
                      {
                        "colorbar": {
                          "outlinewidth": 0,
                          "ticks": ""
                        },
                        "type": "mesh3d"
                      }
                    ],
                    "parcoords": [
                      {
                        "line": {
                          "colorbar": {
                            "outlinewidth": 0,
                            "ticks": ""
                          }
                        },
                        "type": "parcoords"
                      }
                    ],
                    "pie": [
                      {
                        "automargin": true,
                        "type": "pie"
                      }
                    ],
                    "scatter": [
                      {
                        "fillpattern": {
                          "fillmode": "overlay",
                          "size": 10,
                          "solidity": 0.2
                        },
                        "type": "scatter"
                      }
                    ],
                    "scatter3d": [
                      {
                        "line": {
                          "colorbar": {
                            "outlinewidth": 0,
                            "ticks": ""
                          }
                        },
                        "marker": {
                          "colorbar": {
                            "outlinewidth": 0,
                            "ticks": ""
                          }
                        },
                        "type": "scatter3d"
                      }
                    ],
                    "scattercarpet": [
                      {
                        "marker": {
                          "colorbar": {
                            "outlinewidth": 0,
                            "ticks": ""
                          }
                        },
                        "type": "scattercarpet"
                      }
                    ],
                    "scattergeo": [
                      {
                        "marker": {
                          "colorbar": {
                            "outlinewidth": 0,
                            "ticks": ""
                          }
                        },
                        "type": "scattergeo"
                      }
                    ],
                    "scattergl": [
                      {
                        "marker": {
                          "colorbar": {
                            "outlinewidth": 0,
                            "ticks": ""
                          }
                        },
                        "type": "scattergl"
                      }
                    ],
                    "scattermapbox": [
                      {
                        "marker": {
                          "colorbar": {
                            "outlinewidth": 0,
                            "ticks": ""
                          }
                        },
                        "type": "scattermapbox"
                      }
                    ],
                    "scatterpolar": [
                      {
                        "marker": {
                          "colorbar": {
                            "outlinewidth": 0,
                            "ticks": ""
                          }
                        },
                        "type": "scatterpolar"
                      }
                    ],
                    "scatterpolargl": [
                      {
                        "marker": {
                          "colorbar": {
                            "outlinewidth": 0,
                            "ticks": ""
                          }
                        },
                        "type": "scatterpolargl"
                      }
                    ],
                    "scatterternary": [
                      {
                        "marker": {
                          "colorbar": {
                            "outlinewidth": 0,
                            "ticks": ""
                          }
                        },
                        "type": "scatterternary"
                      }
                    ],
                    "surface": [
                      {
                        "colorbar": {
                          "outlinewidth": 0,
                          "ticks": ""
                        },
                        "colorscale": [
                          [
                            0,
                            "#0d0887"
                          ],
                          [
                            0.1111111111111111,
                            "#46039f"
                          ],
                          [
                            0.2222222222222222,
                            "#7201a8"
                          ],
                          [
                            0.3333333333333333,
                            "#9c179e"
                          ],
                          [
                            0.4444444444444444,
                            "#bd3786"
                          ],
                          [
                            0.5555555555555556,
                            "#d8576b"
                          ],
                          [
                            0.6666666666666666,
                            "#ed7953"
                          ],
                          [
                            0.7777777777777778,
                            "#fb9f3a"
                          ],
                          [
                            0.8888888888888888,
                            "#fdca26"
                          ],
                          [
                            1,
                            "#f0f921"
                          ]
                        ],
                        "type": "surface"
                      }
                    ],
                    "table": [
                      {
                        "cells": {
                          "fill": {
                            "color": "#EBF0F8"
                          },
                          "line": {
                            "color": "white"
                          }
                        },
                        "header": {
                          "fill": {
                            "color": "#C8D4E3"
                          },
                          "line": {
                            "color": "white"
                          }
                        },
                        "type": "table"
                      }
                    ]
                  },
                  "layout": {
                    "annotationdefaults": {
                      "arrowcolor": "#2a3f5f",
                      "arrowhead": 0,
                      "arrowwidth": 1
                    },
                    "autotypenumbers": "strict",
                    "coloraxis": {
                      "colorbar": {
                        "outlinewidth": 0,
                        "ticks": ""
                      }
                    },
                    "colorscale": {
                      "diverging": [
                        [
                          0,
                          "#8e0152"
                        ],
                        [
                          0.1,
                          "#c51b7d"
                        ],
                        [
                          0.2,
                          "#de77ae"
                        ],
                        [
                          0.3,
                          "#f1b6da"
                        ],
                        [
                          0.4,
                          "#fde0ef"
                        ],
                        [
                          0.5,
                          "#f7f7f7"
                        ],
                        [
                          0.6,
                          "#e6f5d0"
                        ],
                        [
                          0.7,
                          "#b8e186"
                        ],
                        [
                          0.8,
                          "#7fbc41"
                        ],
                        [
                          0.9,
                          "#4d9221"
                        ],
                        [
                          1,
                          "#276419"
                        ]
                      ],
                      "sequential": [
                        [
                          0,
                          "#0d0887"
                        ],
                        [
                          0.1111111111111111,
                          "#46039f"
                        ],
                        [
                          0.2222222222222222,
                          "#7201a8"
                        ],
                        [
                          0.3333333333333333,
                          "#9c179e"
                        ],
                        [
                          0.4444444444444444,
                          "#bd3786"
                        ],
                        [
                          0.5555555555555556,
                          "#d8576b"
                        ],
                        [
                          0.6666666666666666,
                          "#ed7953"
                        ],
                        [
                          0.7777777777777778,
                          "#fb9f3a"
                        ],
                        [
                          0.8888888888888888,
                          "#fdca26"
                        ],
                        [
                          1,
                          "#f0f921"
                        ]
                      ],
                      "sequentialminus": [
                        [
                          0,
                          "#0d0887"
                        ],
                        [
                          0.1111111111111111,
                          "#46039f"
                        ],
                        [
                          0.2222222222222222,
                          "#7201a8"
                        ],
                        [
                          0.3333333333333333,
                          "#9c179e"
                        ],
                        [
                          0.4444444444444444,
                          "#bd3786"
                        ],
                        [
                          0.5555555555555556,
                          "#d8576b"
                        ],
                        [
                          0.6666666666666666,
                          "#ed7953"
                        ],
                        [
                          0.7777777777777778,
                          "#fb9f3a"
                        ],
                        [
                          0.8888888888888888,
                          "#fdca26"
                        ],
                        [
                          1,
                          "#f0f921"
                        ]
                      ]
                    },
                    "colorway": [
                      "#636efa",
                      "#EF553B",
                      "#00cc96",
                      "#ab63fa",
                      "#FFA15A",
                      "#19d3f3",
                      "#FF6692",
                      "#B6E880",
                      "#FF97FF",
                      "#FECB52"
                    ],
                    "font": {
                      "color": "#2a3f5f"
                    },
                    "geo": {
                      "bgcolor": "white",
                      "lakecolor": "white",
                      "landcolor": "#E5ECF6",
                      "showlakes": true,
                      "showland": true,
                      "subunitcolor": "white"
                    },
                    "hoverlabel": {
                      "align": "left"
                    },
                    "hovermode": "closest",
                    "mapbox": {
                      "style": "light"
                    },
                    "paper_bgcolor": "white",
                    "plot_bgcolor": "#E5ECF6",
                    "polar": {
                      "angularaxis": {
                        "gridcolor": "white",
                        "linecolor": "white",
                        "ticks": ""
                      },
                      "bgcolor": "#E5ECF6",
                      "radialaxis": {
                        "gridcolor": "white",
                        "linecolor": "white",
                        "ticks": ""
                      }
                    },
                    "scene": {
                      "xaxis": {
                        "backgroundcolor": "#E5ECF6",
                        "gridcolor": "white",
                        "gridwidth": 2,
                        "linecolor": "white",
                        "showbackground": true,
                        "ticks": "",
                        "zerolinecolor": "white"
                      },
                      "yaxis": {
                        "backgroundcolor": "#E5ECF6",
                        "gridcolor": "white",
                        "gridwidth": 2,
                        "linecolor": "white",
                        "showbackground": true,
                        "ticks": "",
                        "zerolinecolor": "white"
                      },
                      "zaxis": {
                        "backgroundcolor": "#E5ECF6",
                        "gridcolor": "white",
                        "gridwidth": 2,
                        "linecolor": "white",
                        "showbackground": true,
                        "ticks": "",
                        "zerolinecolor": "white"
                      }
                    },
                    "shapedefaults": {
                      "line": {
                        "color": "#2a3f5f"
                      }
                    },
                    "ternary": {
                      "aaxis": {
                        "gridcolor": "white",
                        "linecolor": "white",
                        "ticks": ""
                      },
                      "baxis": {
                        "gridcolor": "white",
                        "linecolor": "white",
                        "ticks": ""
                      },
                      "bgcolor": "#E5ECF6",
                      "caxis": {
                        "gridcolor": "white",
                        "linecolor": "white",
                        "ticks": ""
                      }
                    },
                    "title": {
                      "x": 0.05
                    },
                    "xaxis": {
                      "automargin": true,
                      "gridcolor": "white",
                      "linecolor": "white",
                      "ticks": "",
                      "title": {
                        "standoff": 15
                      },
                      "zerolinecolor": "white",
                      "zerolinewidth": 2
                    },
                    "yaxis": {
                      "automargin": true,
                      "gridcolor": "white",
                      "linecolor": "white",
                      "ticks": "",
                      "title": {
                        "standoff": 15
                      },
                      "zerolinecolor": "white",
                      "zerolinewidth": 2
                    }
                  }
                },
                "title": {
                  "text": "Optimization History Plot"
                },
                "xaxis": {
                  "title": {
                    "text": "Trial"
                  }
                },
                "yaxis": {
                  "title": {
                    "text": "f1_score"
                  }
                }
              }
            }
          },
          "metadata": {},
          "output_type": "display_data"
        }
      ],
      "source": [
        "# График истории оптимизации - отображает количество испытаний на оси Х и метрику на оси Y\n",
        "optuna.visualization.plot_optimization_history(study, target_name=\"f1_score\")"
      ]
    },
    {
      "cell_type": "code",
      "execution_count": 105,
      "metadata": {},
      "outputs": [
        {
          "data": {
            "application/vnd.plotly.v1+json": {
              "config": {
                "plotlyServerURL": "https://plot.ly"
              },
              "data": [
                {
                  "cliponaxis": false,
                  "hovertemplate": [
                    "n_estimators (IntDistribution): 0.008855505931141133<extra></extra>",
                    "max_depth (IntDistribution): 0.043403917278808116<extra></extra>",
                    "min_samples_leaf (IntDistribution): 0.9477405767900507<extra></extra>"
                  ],
                  "name": "f1_score",
                  "orientation": "h",
                  "text": [
                    "<0.01",
                    "0.04",
                    "0.95"
                  ],
                  "textposition": "outside",
                  "type": "bar",
                  "x": [
                    0.008855505931141133,
                    0.043403917278808116,
                    0.9477405767900507
                  ],
                  "y": [
                    "n_estimators",
                    "max_depth",
                    "min_samples_leaf"
                  ]
                }
              ],
              "layout": {
                "template": {
                  "data": {
                    "bar": [
                      {
                        "error_x": {
                          "color": "#2a3f5f"
                        },
                        "error_y": {
                          "color": "#2a3f5f"
                        },
                        "marker": {
                          "line": {
                            "color": "#E5ECF6",
                            "width": 0.5
                          },
                          "pattern": {
                            "fillmode": "overlay",
                            "size": 10,
                            "solidity": 0.2
                          }
                        },
                        "type": "bar"
                      }
                    ],
                    "barpolar": [
                      {
                        "marker": {
                          "line": {
                            "color": "#E5ECF6",
                            "width": 0.5
                          },
                          "pattern": {
                            "fillmode": "overlay",
                            "size": 10,
                            "solidity": 0.2
                          }
                        },
                        "type": "barpolar"
                      }
                    ],
                    "carpet": [
                      {
                        "aaxis": {
                          "endlinecolor": "#2a3f5f",
                          "gridcolor": "white",
                          "linecolor": "white",
                          "minorgridcolor": "white",
                          "startlinecolor": "#2a3f5f"
                        },
                        "baxis": {
                          "endlinecolor": "#2a3f5f",
                          "gridcolor": "white",
                          "linecolor": "white",
                          "minorgridcolor": "white",
                          "startlinecolor": "#2a3f5f"
                        },
                        "type": "carpet"
                      }
                    ],
                    "choropleth": [
                      {
                        "colorbar": {
                          "outlinewidth": 0,
                          "ticks": ""
                        },
                        "type": "choropleth"
                      }
                    ],
                    "contour": [
                      {
                        "colorbar": {
                          "outlinewidth": 0,
                          "ticks": ""
                        },
                        "colorscale": [
                          [
                            0,
                            "#0d0887"
                          ],
                          [
                            0.1111111111111111,
                            "#46039f"
                          ],
                          [
                            0.2222222222222222,
                            "#7201a8"
                          ],
                          [
                            0.3333333333333333,
                            "#9c179e"
                          ],
                          [
                            0.4444444444444444,
                            "#bd3786"
                          ],
                          [
                            0.5555555555555556,
                            "#d8576b"
                          ],
                          [
                            0.6666666666666666,
                            "#ed7953"
                          ],
                          [
                            0.7777777777777778,
                            "#fb9f3a"
                          ],
                          [
                            0.8888888888888888,
                            "#fdca26"
                          ],
                          [
                            1,
                            "#f0f921"
                          ]
                        ],
                        "type": "contour"
                      }
                    ],
                    "contourcarpet": [
                      {
                        "colorbar": {
                          "outlinewidth": 0,
                          "ticks": ""
                        },
                        "type": "contourcarpet"
                      }
                    ],
                    "heatmap": [
                      {
                        "colorbar": {
                          "outlinewidth": 0,
                          "ticks": ""
                        },
                        "colorscale": [
                          [
                            0,
                            "#0d0887"
                          ],
                          [
                            0.1111111111111111,
                            "#46039f"
                          ],
                          [
                            0.2222222222222222,
                            "#7201a8"
                          ],
                          [
                            0.3333333333333333,
                            "#9c179e"
                          ],
                          [
                            0.4444444444444444,
                            "#bd3786"
                          ],
                          [
                            0.5555555555555556,
                            "#d8576b"
                          ],
                          [
                            0.6666666666666666,
                            "#ed7953"
                          ],
                          [
                            0.7777777777777778,
                            "#fb9f3a"
                          ],
                          [
                            0.8888888888888888,
                            "#fdca26"
                          ],
                          [
                            1,
                            "#f0f921"
                          ]
                        ],
                        "type": "heatmap"
                      }
                    ],
                    "heatmapgl": [
                      {
                        "colorbar": {
                          "outlinewidth": 0,
                          "ticks": ""
                        },
                        "colorscale": [
                          [
                            0,
                            "#0d0887"
                          ],
                          [
                            0.1111111111111111,
                            "#46039f"
                          ],
                          [
                            0.2222222222222222,
                            "#7201a8"
                          ],
                          [
                            0.3333333333333333,
                            "#9c179e"
                          ],
                          [
                            0.4444444444444444,
                            "#bd3786"
                          ],
                          [
                            0.5555555555555556,
                            "#d8576b"
                          ],
                          [
                            0.6666666666666666,
                            "#ed7953"
                          ],
                          [
                            0.7777777777777778,
                            "#fb9f3a"
                          ],
                          [
                            0.8888888888888888,
                            "#fdca26"
                          ],
                          [
                            1,
                            "#f0f921"
                          ]
                        ],
                        "type": "heatmapgl"
                      }
                    ],
                    "histogram": [
                      {
                        "marker": {
                          "pattern": {
                            "fillmode": "overlay",
                            "size": 10,
                            "solidity": 0.2
                          }
                        },
                        "type": "histogram"
                      }
                    ],
                    "histogram2d": [
                      {
                        "colorbar": {
                          "outlinewidth": 0,
                          "ticks": ""
                        },
                        "colorscale": [
                          [
                            0,
                            "#0d0887"
                          ],
                          [
                            0.1111111111111111,
                            "#46039f"
                          ],
                          [
                            0.2222222222222222,
                            "#7201a8"
                          ],
                          [
                            0.3333333333333333,
                            "#9c179e"
                          ],
                          [
                            0.4444444444444444,
                            "#bd3786"
                          ],
                          [
                            0.5555555555555556,
                            "#d8576b"
                          ],
                          [
                            0.6666666666666666,
                            "#ed7953"
                          ],
                          [
                            0.7777777777777778,
                            "#fb9f3a"
                          ],
                          [
                            0.8888888888888888,
                            "#fdca26"
                          ],
                          [
                            1,
                            "#f0f921"
                          ]
                        ],
                        "type": "histogram2d"
                      }
                    ],
                    "histogram2dcontour": [
                      {
                        "colorbar": {
                          "outlinewidth": 0,
                          "ticks": ""
                        },
                        "colorscale": [
                          [
                            0,
                            "#0d0887"
                          ],
                          [
                            0.1111111111111111,
                            "#46039f"
                          ],
                          [
                            0.2222222222222222,
                            "#7201a8"
                          ],
                          [
                            0.3333333333333333,
                            "#9c179e"
                          ],
                          [
                            0.4444444444444444,
                            "#bd3786"
                          ],
                          [
                            0.5555555555555556,
                            "#d8576b"
                          ],
                          [
                            0.6666666666666666,
                            "#ed7953"
                          ],
                          [
                            0.7777777777777778,
                            "#fb9f3a"
                          ],
                          [
                            0.8888888888888888,
                            "#fdca26"
                          ],
                          [
                            1,
                            "#f0f921"
                          ]
                        ],
                        "type": "histogram2dcontour"
                      }
                    ],
                    "mesh3d": [
                      {
                        "colorbar": {
                          "outlinewidth": 0,
                          "ticks": ""
                        },
                        "type": "mesh3d"
                      }
                    ],
                    "parcoords": [
                      {
                        "line": {
                          "colorbar": {
                            "outlinewidth": 0,
                            "ticks": ""
                          }
                        },
                        "type": "parcoords"
                      }
                    ],
                    "pie": [
                      {
                        "automargin": true,
                        "type": "pie"
                      }
                    ],
                    "scatter": [
                      {
                        "fillpattern": {
                          "fillmode": "overlay",
                          "size": 10,
                          "solidity": 0.2
                        },
                        "type": "scatter"
                      }
                    ],
                    "scatter3d": [
                      {
                        "line": {
                          "colorbar": {
                            "outlinewidth": 0,
                            "ticks": ""
                          }
                        },
                        "marker": {
                          "colorbar": {
                            "outlinewidth": 0,
                            "ticks": ""
                          }
                        },
                        "type": "scatter3d"
                      }
                    ],
                    "scattercarpet": [
                      {
                        "marker": {
                          "colorbar": {
                            "outlinewidth": 0,
                            "ticks": ""
                          }
                        },
                        "type": "scattercarpet"
                      }
                    ],
                    "scattergeo": [
                      {
                        "marker": {
                          "colorbar": {
                            "outlinewidth": 0,
                            "ticks": ""
                          }
                        },
                        "type": "scattergeo"
                      }
                    ],
                    "scattergl": [
                      {
                        "marker": {
                          "colorbar": {
                            "outlinewidth": 0,
                            "ticks": ""
                          }
                        },
                        "type": "scattergl"
                      }
                    ],
                    "scattermapbox": [
                      {
                        "marker": {
                          "colorbar": {
                            "outlinewidth": 0,
                            "ticks": ""
                          }
                        },
                        "type": "scattermapbox"
                      }
                    ],
                    "scatterpolar": [
                      {
                        "marker": {
                          "colorbar": {
                            "outlinewidth": 0,
                            "ticks": ""
                          }
                        },
                        "type": "scatterpolar"
                      }
                    ],
                    "scatterpolargl": [
                      {
                        "marker": {
                          "colorbar": {
                            "outlinewidth": 0,
                            "ticks": ""
                          }
                        },
                        "type": "scatterpolargl"
                      }
                    ],
                    "scatterternary": [
                      {
                        "marker": {
                          "colorbar": {
                            "outlinewidth": 0,
                            "ticks": ""
                          }
                        },
                        "type": "scatterternary"
                      }
                    ],
                    "surface": [
                      {
                        "colorbar": {
                          "outlinewidth": 0,
                          "ticks": ""
                        },
                        "colorscale": [
                          [
                            0,
                            "#0d0887"
                          ],
                          [
                            0.1111111111111111,
                            "#46039f"
                          ],
                          [
                            0.2222222222222222,
                            "#7201a8"
                          ],
                          [
                            0.3333333333333333,
                            "#9c179e"
                          ],
                          [
                            0.4444444444444444,
                            "#bd3786"
                          ],
                          [
                            0.5555555555555556,
                            "#d8576b"
                          ],
                          [
                            0.6666666666666666,
                            "#ed7953"
                          ],
                          [
                            0.7777777777777778,
                            "#fb9f3a"
                          ],
                          [
                            0.8888888888888888,
                            "#fdca26"
                          ],
                          [
                            1,
                            "#f0f921"
                          ]
                        ],
                        "type": "surface"
                      }
                    ],
                    "table": [
                      {
                        "cells": {
                          "fill": {
                            "color": "#EBF0F8"
                          },
                          "line": {
                            "color": "white"
                          }
                        },
                        "header": {
                          "fill": {
                            "color": "#C8D4E3"
                          },
                          "line": {
                            "color": "white"
                          }
                        },
                        "type": "table"
                      }
                    ]
                  },
                  "layout": {
                    "annotationdefaults": {
                      "arrowcolor": "#2a3f5f",
                      "arrowhead": 0,
                      "arrowwidth": 1
                    },
                    "autotypenumbers": "strict",
                    "coloraxis": {
                      "colorbar": {
                        "outlinewidth": 0,
                        "ticks": ""
                      }
                    },
                    "colorscale": {
                      "diverging": [
                        [
                          0,
                          "#8e0152"
                        ],
                        [
                          0.1,
                          "#c51b7d"
                        ],
                        [
                          0.2,
                          "#de77ae"
                        ],
                        [
                          0.3,
                          "#f1b6da"
                        ],
                        [
                          0.4,
                          "#fde0ef"
                        ],
                        [
                          0.5,
                          "#f7f7f7"
                        ],
                        [
                          0.6,
                          "#e6f5d0"
                        ],
                        [
                          0.7,
                          "#b8e186"
                        ],
                        [
                          0.8,
                          "#7fbc41"
                        ],
                        [
                          0.9,
                          "#4d9221"
                        ],
                        [
                          1,
                          "#276419"
                        ]
                      ],
                      "sequential": [
                        [
                          0,
                          "#0d0887"
                        ],
                        [
                          0.1111111111111111,
                          "#46039f"
                        ],
                        [
                          0.2222222222222222,
                          "#7201a8"
                        ],
                        [
                          0.3333333333333333,
                          "#9c179e"
                        ],
                        [
                          0.4444444444444444,
                          "#bd3786"
                        ],
                        [
                          0.5555555555555556,
                          "#d8576b"
                        ],
                        [
                          0.6666666666666666,
                          "#ed7953"
                        ],
                        [
                          0.7777777777777778,
                          "#fb9f3a"
                        ],
                        [
                          0.8888888888888888,
                          "#fdca26"
                        ],
                        [
                          1,
                          "#f0f921"
                        ]
                      ],
                      "sequentialminus": [
                        [
                          0,
                          "#0d0887"
                        ],
                        [
                          0.1111111111111111,
                          "#46039f"
                        ],
                        [
                          0.2222222222222222,
                          "#7201a8"
                        ],
                        [
                          0.3333333333333333,
                          "#9c179e"
                        ],
                        [
                          0.4444444444444444,
                          "#bd3786"
                        ],
                        [
                          0.5555555555555556,
                          "#d8576b"
                        ],
                        [
                          0.6666666666666666,
                          "#ed7953"
                        ],
                        [
                          0.7777777777777778,
                          "#fb9f3a"
                        ],
                        [
                          0.8888888888888888,
                          "#fdca26"
                        ],
                        [
                          1,
                          "#f0f921"
                        ]
                      ]
                    },
                    "colorway": [
                      "#636efa",
                      "#EF553B",
                      "#00cc96",
                      "#ab63fa",
                      "#FFA15A",
                      "#19d3f3",
                      "#FF6692",
                      "#B6E880",
                      "#FF97FF",
                      "#FECB52"
                    ],
                    "font": {
                      "color": "#2a3f5f"
                    },
                    "geo": {
                      "bgcolor": "white",
                      "lakecolor": "white",
                      "landcolor": "#E5ECF6",
                      "showlakes": true,
                      "showland": true,
                      "subunitcolor": "white"
                    },
                    "hoverlabel": {
                      "align": "left"
                    },
                    "hovermode": "closest",
                    "mapbox": {
                      "style": "light"
                    },
                    "paper_bgcolor": "white",
                    "plot_bgcolor": "#E5ECF6",
                    "polar": {
                      "angularaxis": {
                        "gridcolor": "white",
                        "linecolor": "white",
                        "ticks": ""
                      },
                      "bgcolor": "#E5ECF6",
                      "radialaxis": {
                        "gridcolor": "white",
                        "linecolor": "white",
                        "ticks": ""
                      }
                    },
                    "scene": {
                      "xaxis": {
                        "backgroundcolor": "#E5ECF6",
                        "gridcolor": "white",
                        "gridwidth": 2,
                        "linecolor": "white",
                        "showbackground": true,
                        "ticks": "",
                        "zerolinecolor": "white"
                      },
                      "yaxis": {
                        "backgroundcolor": "#E5ECF6",
                        "gridcolor": "white",
                        "gridwidth": 2,
                        "linecolor": "white",
                        "showbackground": true,
                        "ticks": "",
                        "zerolinecolor": "white"
                      },
                      "zaxis": {
                        "backgroundcolor": "#E5ECF6",
                        "gridcolor": "white",
                        "gridwidth": 2,
                        "linecolor": "white",
                        "showbackground": true,
                        "ticks": "",
                        "zerolinecolor": "white"
                      }
                    },
                    "shapedefaults": {
                      "line": {
                        "color": "#2a3f5f"
                      }
                    },
                    "ternary": {
                      "aaxis": {
                        "gridcolor": "white",
                        "linecolor": "white",
                        "ticks": ""
                      },
                      "baxis": {
                        "gridcolor": "white",
                        "linecolor": "white",
                        "ticks": ""
                      },
                      "bgcolor": "#E5ECF6",
                      "caxis": {
                        "gridcolor": "white",
                        "linecolor": "white",
                        "ticks": ""
                      }
                    },
                    "title": {
                      "x": 0.05
                    },
                    "xaxis": {
                      "automargin": true,
                      "gridcolor": "white",
                      "linecolor": "white",
                      "ticks": "",
                      "title": {
                        "standoff": 15
                      },
                      "zerolinecolor": "white",
                      "zerolinewidth": 2
                    },
                    "yaxis": {
                      "automargin": true,
                      "gridcolor": "white",
                      "linecolor": "white",
                      "ticks": "",
                      "title": {
                        "standoff": 15
                      },
                      "zerolinecolor": "white",
                      "zerolinewidth": 2
                    }
                  }
                },
                "title": {
                  "text": "Hyperparameter Importances"
                },
                "xaxis": {
                  "title": {
                    "text": "Hyperparameter Importance"
                  }
                },
                "yaxis": {
                  "title": {
                    "text": "Hyperparameter"
                  }
                }
              }
            }
          },
          "metadata": {},
          "output_type": "display_data"
        }
      ],
      "source": [
        "# График важности гиперпараметров\n",
        "optuna.visualization.plot_param_importances(study, target_name=\"f1_score\")"
      ]
    },
    {
      "cell_type": "code",
      "execution_count": 106,
      "metadata": {},
      "outputs": [
        {
          "data": {
            "application/vnd.plotly.v1+json": {
              "config": {
                "plotlyServerURL": "https://plot.ly"
              },
              "data": [
                {
                  "colorbar": {
                    "title": {
                      "text": "f1_score"
                    }
                  },
                  "colorscale": [
                    [
                      0,
                      "rgb(247,251,255)"
                    ],
                    [
                      0.125,
                      "rgb(222,235,247)"
                    ],
                    [
                      0.25,
                      "rgb(198,219,239)"
                    ],
                    [
                      0.375,
                      "rgb(158,202,225)"
                    ],
                    [
                      0.5,
                      "rgb(107,174,214)"
                    ],
                    [
                      0.625,
                      "rgb(66,146,198)"
                    ],
                    [
                      0.75,
                      "rgb(33,113,181)"
                    ],
                    [
                      0.875,
                      "rgb(8,81,156)"
                    ],
                    [
                      1,
                      "rgb(8,48,107)"
                    ]
                  ],
                  "connectgaps": true,
                  "contours": {
                    "coloring": "heatmap"
                  },
                  "hoverinfo": "none",
                  "line": {
                    "smoothing": 1.3
                  },
                  "reversescale": false,
                  "type": "contour",
                  "x": [
                    9,
                    10,
                    11,
                    13,
                    15,
                    16,
                    17,
                    18,
                    19,
                    20,
                    21,
                    22,
                    23,
                    24,
                    25,
                    26,
                    27,
                    28,
                    29,
                    30,
                    31
                  ],
                  "y": [
                    96.05,
                    101,
                    105,
                    118,
                    124,
                    125,
                    130,
                    135,
                    143,
                    147,
                    149,
                    152,
                    157,
                    158,
                    159,
                    163,
                    166,
                    167,
                    170,
                    171,
                    172,
                    173,
                    175,
                    177,
                    178,
                    180,
                    181,
                    183,
                    184,
                    186,
                    187,
                    188,
                    191,
                    192,
                    193,
                    194,
                    195,
                    196,
                    199,
                    200,
                    204.95
                  ],
                  "z": [
                    [
                      null,
                      null,
                      null,
                      null,
                      null,
                      null,
                      null,
                      null,
                      null,
                      null,
                      null,
                      null,
                      null,
                      null,
                      null,
                      null,
                      null,
                      null,
                      null,
                      null,
                      null
                    ],
                    [
                      null,
                      null,
                      null,
                      null,
                      null,
                      null,
                      null,
                      null,
                      0.956548347613219,
                      null,
                      null,
                      null,
                      null,
                      null,
                      null,
                      null,
                      null,
                      null,
                      null,
                      null,
                      null
                    ],
                    [
                      null,
                      0.9234537660747091,
                      null,
                      null,
                      null,
                      null,
                      null,
                      null,
                      null,
                      null,
                      null,
                      null,
                      null,
                      null,
                      null,
                      null,
                      null,
                      null,
                      null,
                      null,
                      null
                    ],
                    [
                      null,
                      null,
                      null,
                      null,
                      null,
                      null,
                      null,
                      null,
                      null,
                      null,
                      0.9767726161369193,
                      null,
                      null,
                      null,
                      null,
                      null,
                      null,
                      null,
                      null,
                      null,
                      null
                    ],
                    [
                      null,
                      null,
                      null,
                      null,
                      null,
                      null,
                      null,
                      null,
                      null,
                      null,
                      null,
                      null,
                      null,
                      null,
                      null,
                      0.9359485136377567,
                      null,
                      null,
                      null,
                      null,
                      null
                    ],
                    [
                      null,
                      null,
                      null,
                      null,
                      null,
                      null,
                      null,
                      null,
                      null,
                      null,
                      null,
                      null,
                      0.9443765281173593,
                      null,
                      null,
                      null,
                      null,
                      null,
                      null,
                      null,
                      null
                    ],
                    [
                      null,
                      null,
                      null,
                      null,
                      null,
                      null,
                      null,
                      null,
                      null,
                      null,
                      null,
                      null,
                      null,
                      0.9917254060680356,
                      null,
                      null,
                      null,
                      null,
                      null,
                      null,
                      null
                    ],
                    [
                      null,
                      null,
                      null,
                      null,
                      null,
                      null,
                      0.925473427000611,
                      null,
                      null,
                      null,
                      null,
                      null,
                      0.9914163090128756,
                      null,
                      null,
                      null,
                      null,
                      null,
                      null,
                      null,
                      null
                    ],
                    [
                      null,
                      null,
                      null,
                      null,
                      null,
                      null,
                      null,
                      null,
                      null,
                      null,
                      null,
                      null,
                      null,
                      null,
                      null,
                      null,
                      null,
                      0.9908144519289651,
                      null,
                      null,
                      null
                    ],
                    [
                      null,
                      null,
                      null,
                      null,
                      null,
                      null,
                      null,
                      null,
                      null,
                      null,
                      null,
                      null,
                      null,
                      null,
                      null,
                      null,
                      0.9092570036540805,
                      null,
                      null,
                      null,
                      null
                    ],
                    [
                      null,
                      null,
                      null,
                      null,
                      0.9514800122062863,
                      null,
                      null,
                      null,
                      null,
                      null,
                      null,
                      null,
                      null,
                      null,
                      null,
                      null,
                      null,
                      null,
                      null,
                      null,
                      null
                    ],
                    [
                      null,
                      null,
                      0.9367552703941339,
                      null,
                      null,
                      null,
                      null,
                      null,
                      null,
                      null,
                      null,
                      null,
                      null,
                      null,
                      null,
                      null,
                      null,
                      null,
                      0.9770150168556543,
                      null,
                      null
                    ],
                    [
                      null,
                      null,
                      null,
                      null,
                      null,
                      null,
                      null,
                      null,
                      null,
                      null,
                      null,
                      null,
                      null,
                      null,
                      0.9770150168556543,
                      null,
                      null,
                      null,
                      null,
                      null,
                      null
                    ],
                    [
                      null,
                      null,
                      0.8834771886559802,
                      null,
                      null,
                      null,
                      null,
                      null,
                      null,
                      null,
                      null,
                      null,
                      null,
                      null,
                      null,
                      null,
                      null,
                      null,
                      null,
                      null,
                      null
                    ],
                    [
                      null,
                      null,
                      null,
                      null,
                      null,
                      null,
                      null,
                      null,
                      null,
                      null,
                      0.9011930253900275,
                      null,
                      null,
                      null,
                      null,
                      null,
                      null,
                      null,
                      null,
                      null,
                      null
                    ],
                    [
                      null,
                      null,
                      null,
                      null,
                      null,
                      null,
                      null,
                      null,
                      null,
                      null,
                      null,
                      null,
                      null,
                      null,
                      null,
                      0.9571078431372549,
                      null,
                      null,
                      null,
                      null,
                      null
                    ],
                    [
                      null,
                      null,
                      null,
                      null,
                      null,
                      null,
                      null,
                      0.9276335877862595,
                      null,
                      null,
                      null,
                      null,
                      null,
                      null,
                      null,
                      null,
                      null,
                      null,
                      null,
                      null,
                      null
                    ],
                    [
                      null,
                      null,
                      null,
                      null,
                      null,
                      null,
                      null,
                      null,
                      null,
                      0.9547953573610263,
                      null,
                      null,
                      null,
                      null,
                      null,
                      null,
                      null,
                      null,
                      null,
                      null,
                      null
                    ],
                    [
                      null,
                      null,
                      null,
                      null,
                      null,
                      null,
                      null,
                      null,
                      null,
                      null,
                      null,
                      null,
                      null,
                      null,
                      null,
                      null,
                      null,
                      null,
                      0.9089798411728772,
                      null,
                      null
                    ],
                    [
                      null,
                      null,
                      null,
                      null,
                      null,
                      null,
                      null,
                      null,
                      null,
                      null,
                      null,
                      null,
                      null,
                      null,
                      null,
                      null,
                      null,
                      null,
                      null,
                      0.9577205882352942,
                      null
                    ],
                    [
                      null,
                      null,
                      null,
                      null,
                      0.9825741363497401,
                      null,
                      null,
                      null,
                      null,
                      null,
                      null,
                      null,
                      null,
                      null,
                      null,
                      null,
                      null,
                      null,
                      null,
                      null,
                      null
                    ],
                    [
                      null,
                      null,
                      null,
                      null,
                      null,
                      null,
                      null,
                      null,
                      null,
                      null,
                      null,
                      null,
                      null,
                      0.9914268218003673,
                      null,
                      null,
                      null,
                      null,
                      null,
                      null,
                      null
                    ],
                    [
                      null,
                      null,
                      null,
                      null,
                      null,
                      null,
                      null,
                      null,
                      null,
                      null,
                      null,
                      null,
                      null,
                      null,
                      null,
                      null,
                      0.992347719620447,
                      null,
                      null,
                      null,
                      null
                    ],
                    [
                      null,
                      null,
                      null,
                      null,
                      null,
                      null,
                      null,
                      null,
                      null,
                      null,
                      null,
                      null,
                      null,
                      null,
                      0.9574533210896847,
                      null,
                      0.992347719620447,
                      null,
                      null,
                      null,
                      null
                    ],
                    [
                      null,
                      null,
                      null,
                      null,
                      null,
                      null,
                      null,
                      null,
                      null,
                      null,
                      null,
                      0.9776416539050536,
                      null,
                      null,
                      0.992651561543172,
                      null,
                      null,
                      null,
                      null,
                      null,
                      null
                    ],
                    [
                      null,
                      null,
                      null,
                      null,
                      null,
                      null,
                      null,
                      null,
                      0.946886446886447,
                      null,
                      null,
                      null,
                      null,
                      null,
                      null,
                      null,
                      null,
                      null,
                      null,
                      null,
                      null
                    ],
                    [
                      null,
                      null,
                      null,
                      0.9701583434835567,
                      null,
                      null,
                      null,
                      null,
                      null,
                      null,
                      null,
                      null,
                      null,
                      null,
                      0.992651561543172,
                      null,
                      null,
                      null,
                      null,
                      null,
                      null
                    ],
                    [
                      null,
                      null,
                      null,
                      null,
                      null,
                      null,
                      null,
                      null,
                      null,
                      null,
                      null,
                      null,
                      null,
                      0.9920343137254902,
                      null,
                      null,
                      null,
                      null,
                      null,
                      null,
                      null
                    ],
                    [
                      null,
                      null,
                      null,
                      null,
                      null,
                      null,
                      null,
                      null,
                      null,
                      null,
                      null,
                      null,
                      null,
                      null,
                      0.97796817625459,
                      null,
                      null,
                      null,
                      null,
                      null,
                      null
                    ],
                    [
                      null,
                      null,
                      null,
                      null,
                      null,
                      null,
                      null,
                      null,
                      null,
                      null,
                      null,
                      0.9776416539050536,
                      null,
                      null,
                      null,
                      0.9465974977113213,
                      null,
                      null,
                      null,
                      null,
                      null
                    ],
                    [
                      null,
                      null,
                      null,
                      null,
                      null,
                      null,
                      null,
                      null,
                      null,
                      null,
                      null,
                      null,
                      null,
                      null,
                      null,
                      null,
                      null,
                      0.977655341291705,
                      null,
                      null,
                      null
                    ],
                    [
                      null,
                      null,
                      null,
                      null,
                      null,
                      null,
                      null,
                      null,
                      null,
                      null,
                      null,
                      null,
                      null,
                      null,
                      null,
                      null,
                      0.9776690119302539,
                      null,
                      0.9923430321592649,
                      null,
                      null
                    ],
                    [
                      null,
                      null,
                      null,
                      null,
                      null,
                      null,
                      null,
                      null,
                      null,
                      null,
                      null,
                      null,
                      null,
                      null,
                      null,
                      null,
                      0.992651561543172,
                      null,
                      null,
                      null,
                      null
                    ],
                    [
                      null,
                      null,
                      null,
                      null,
                      null,
                      null,
                      null,
                      null,
                      null,
                      null,
                      0.9917304747320062,
                      0.9920391916717698,
                      null,
                      null,
                      null,
                      null,
                      null,
                      null,
                      null,
                      null,
                      null
                    ],
                    [
                      null,
                      null,
                      null,
                      null,
                      null,
                      null,
                      null,
                      null,
                      null,
                      null,
                      null,
                      null,
                      null,
                      null,
                      null,
                      null,
                      null,
                      0.978267523722069,
                      null,
                      null,
                      null
                    ],
                    [
                      null,
                      null,
                      null,
                      null,
                      null,
                      0.9858982219497242,
                      null,
                      null,
                      null,
                      null,
                      null,
                      null,
                      null,
                      null,
                      0.9932598039215688,
                      null,
                      null,
                      null,
                      null,
                      null,
                      null
                    ],
                    [
                      null,
                      null,
                      null,
                      null,
                      null,
                      null,
                      null,
                      null,
                      null,
                      null,
                      null,
                      null,
                      null,
                      null,
                      null,
                      null,
                      null,
                      null,
                      0.992951271835734,
                      null,
                      null
                    ],
                    [
                      null,
                      null,
                      null,
                      null,
                      null,
                      null,
                      null,
                      null,
                      null,
                      null,
                      null,
                      null,
                      null,
                      null,
                      null,
                      null,
                      null,
                      0.9926470588235294,
                      null,
                      null,
                      null
                    ],
                    [
                      null,
                      null,
                      null,
                      null,
                      null,
                      null,
                      null,
                      null,
                      null,
                      null,
                      null,
                      null,
                      null,
                      null,
                      null,
                      null,
                      null,
                      null,
                      null,
                      0.9351285189718482,
                      null
                    ],
                    [
                      null,
                      null,
                      null,
                      null,
                      null,
                      null,
                      null,
                      null,
                      null,
                      null,
                      null,
                      null,
                      null,
                      0.915876414805751,
                      0.97796817625459,
                      null,
                      null,
                      null,
                      null,
                      null,
                      null
                    ],
                    [
                      null,
                      null,
                      null,
                      null,
                      null,
                      null,
                      null,
                      null,
                      null,
                      null,
                      null,
                      null,
                      null,
                      null,
                      null,
                      null,
                      null,
                      null,
                      null,
                      null,
                      null
                    ]
                  ]
                },
                {
                  "marker": {
                    "color": "black",
                    "line": {
                      "color": "Gray",
                      "width": 2
                    }
                  },
                  "mode": "markers",
                  "name": "Feasible Trial",
                  "showlegend": false,
                  "type": "scatter",
                  "x": [
                    15,
                    17,
                    11,
                    10,
                    21,
                    11,
                    28,
                    15,
                    27,
                    21,
                    30,
                    25,
                    26,
                    24,
                    23,
                    24,
                    24,
                    19,
                    30,
                    26,
                    23,
                    25,
                    28,
                    24,
                    22,
                    19,
                    26,
                    25,
                    28,
                    25,
                    18,
                    22,
                    21,
                    22,
                    16,
                    25,
                    22,
                    20,
                    29,
                    29,
                    13,
                    27,
                    27,
                    27,
                    27,
                    25,
                    28,
                    29,
                    25,
                    29
                  ],
                  "y": [
                    149,
                    135,
                    152,
                    105,
                    118,
                    158,
                    143,
                    172,
                    147,
                    159,
                    199,
                    181,
                    186,
                    130,
                    125,
                    173,
                    200,
                    101,
                    171,
                    124,
                    135,
                    178,
                    187,
                    183,
                    186,
                    180,
                    163,
                    194,
                    193,
                    177,
                    166,
                    192,
                    192,
                    192,
                    194,
                    200,
                    178,
                    167,
                    188,
                    152,
                    181,
                    191,
                    188,
                    177,
                    175,
                    157,
                    196,
                    195,
                    184,
                    170
                  ]
                },
                {
                  "marker": {
                    "color": "#cccccc",
                    "line": {
                      "color": "Gray",
                      "width": 2
                    }
                  },
                  "mode": "markers",
                  "name": "Infeasible Trial",
                  "showlegend": false,
                  "type": "scatter",
                  "x": [],
                  "y": []
                }
              ],
              "layout": {
                "template": {
                  "data": {
                    "bar": [
                      {
                        "error_x": {
                          "color": "#2a3f5f"
                        },
                        "error_y": {
                          "color": "#2a3f5f"
                        },
                        "marker": {
                          "line": {
                            "color": "#E5ECF6",
                            "width": 0.5
                          },
                          "pattern": {
                            "fillmode": "overlay",
                            "size": 10,
                            "solidity": 0.2
                          }
                        },
                        "type": "bar"
                      }
                    ],
                    "barpolar": [
                      {
                        "marker": {
                          "line": {
                            "color": "#E5ECF6",
                            "width": 0.5
                          },
                          "pattern": {
                            "fillmode": "overlay",
                            "size": 10,
                            "solidity": 0.2
                          }
                        },
                        "type": "barpolar"
                      }
                    ],
                    "carpet": [
                      {
                        "aaxis": {
                          "endlinecolor": "#2a3f5f",
                          "gridcolor": "white",
                          "linecolor": "white",
                          "minorgridcolor": "white",
                          "startlinecolor": "#2a3f5f"
                        },
                        "baxis": {
                          "endlinecolor": "#2a3f5f",
                          "gridcolor": "white",
                          "linecolor": "white",
                          "minorgridcolor": "white",
                          "startlinecolor": "#2a3f5f"
                        },
                        "type": "carpet"
                      }
                    ],
                    "choropleth": [
                      {
                        "colorbar": {
                          "outlinewidth": 0,
                          "ticks": ""
                        },
                        "type": "choropleth"
                      }
                    ],
                    "contour": [
                      {
                        "colorbar": {
                          "outlinewidth": 0,
                          "ticks": ""
                        },
                        "colorscale": [
                          [
                            0,
                            "#0d0887"
                          ],
                          [
                            0.1111111111111111,
                            "#46039f"
                          ],
                          [
                            0.2222222222222222,
                            "#7201a8"
                          ],
                          [
                            0.3333333333333333,
                            "#9c179e"
                          ],
                          [
                            0.4444444444444444,
                            "#bd3786"
                          ],
                          [
                            0.5555555555555556,
                            "#d8576b"
                          ],
                          [
                            0.6666666666666666,
                            "#ed7953"
                          ],
                          [
                            0.7777777777777778,
                            "#fb9f3a"
                          ],
                          [
                            0.8888888888888888,
                            "#fdca26"
                          ],
                          [
                            1,
                            "#f0f921"
                          ]
                        ],
                        "type": "contour"
                      }
                    ],
                    "contourcarpet": [
                      {
                        "colorbar": {
                          "outlinewidth": 0,
                          "ticks": ""
                        },
                        "type": "contourcarpet"
                      }
                    ],
                    "heatmap": [
                      {
                        "colorbar": {
                          "outlinewidth": 0,
                          "ticks": ""
                        },
                        "colorscale": [
                          [
                            0,
                            "#0d0887"
                          ],
                          [
                            0.1111111111111111,
                            "#46039f"
                          ],
                          [
                            0.2222222222222222,
                            "#7201a8"
                          ],
                          [
                            0.3333333333333333,
                            "#9c179e"
                          ],
                          [
                            0.4444444444444444,
                            "#bd3786"
                          ],
                          [
                            0.5555555555555556,
                            "#d8576b"
                          ],
                          [
                            0.6666666666666666,
                            "#ed7953"
                          ],
                          [
                            0.7777777777777778,
                            "#fb9f3a"
                          ],
                          [
                            0.8888888888888888,
                            "#fdca26"
                          ],
                          [
                            1,
                            "#f0f921"
                          ]
                        ],
                        "type": "heatmap"
                      }
                    ],
                    "heatmapgl": [
                      {
                        "colorbar": {
                          "outlinewidth": 0,
                          "ticks": ""
                        },
                        "colorscale": [
                          [
                            0,
                            "#0d0887"
                          ],
                          [
                            0.1111111111111111,
                            "#46039f"
                          ],
                          [
                            0.2222222222222222,
                            "#7201a8"
                          ],
                          [
                            0.3333333333333333,
                            "#9c179e"
                          ],
                          [
                            0.4444444444444444,
                            "#bd3786"
                          ],
                          [
                            0.5555555555555556,
                            "#d8576b"
                          ],
                          [
                            0.6666666666666666,
                            "#ed7953"
                          ],
                          [
                            0.7777777777777778,
                            "#fb9f3a"
                          ],
                          [
                            0.8888888888888888,
                            "#fdca26"
                          ],
                          [
                            1,
                            "#f0f921"
                          ]
                        ],
                        "type": "heatmapgl"
                      }
                    ],
                    "histogram": [
                      {
                        "marker": {
                          "pattern": {
                            "fillmode": "overlay",
                            "size": 10,
                            "solidity": 0.2
                          }
                        },
                        "type": "histogram"
                      }
                    ],
                    "histogram2d": [
                      {
                        "colorbar": {
                          "outlinewidth": 0,
                          "ticks": ""
                        },
                        "colorscale": [
                          [
                            0,
                            "#0d0887"
                          ],
                          [
                            0.1111111111111111,
                            "#46039f"
                          ],
                          [
                            0.2222222222222222,
                            "#7201a8"
                          ],
                          [
                            0.3333333333333333,
                            "#9c179e"
                          ],
                          [
                            0.4444444444444444,
                            "#bd3786"
                          ],
                          [
                            0.5555555555555556,
                            "#d8576b"
                          ],
                          [
                            0.6666666666666666,
                            "#ed7953"
                          ],
                          [
                            0.7777777777777778,
                            "#fb9f3a"
                          ],
                          [
                            0.8888888888888888,
                            "#fdca26"
                          ],
                          [
                            1,
                            "#f0f921"
                          ]
                        ],
                        "type": "histogram2d"
                      }
                    ],
                    "histogram2dcontour": [
                      {
                        "colorbar": {
                          "outlinewidth": 0,
                          "ticks": ""
                        },
                        "colorscale": [
                          [
                            0,
                            "#0d0887"
                          ],
                          [
                            0.1111111111111111,
                            "#46039f"
                          ],
                          [
                            0.2222222222222222,
                            "#7201a8"
                          ],
                          [
                            0.3333333333333333,
                            "#9c179e"
                          ],
                          [
                            0.4444444444444444,
                            "#bd3786"
                          ],
                          [
                            0.5555555555555556,
                            "#d8576b"
                          ],
                          [
                            0.6666666666666666,
                            "#ed7953"
                          ],
                          [
                            0.7777777777777778,
                            "#fb9f3a"
                          ],
                          [
                            0.8888888888888888,
                            "#fdca26"
                          ],
                          [
                            1,
                            "#f0f921"
                          ]
                        ],
                        "type": "histogram2dcontour"
                      }
                    ],
                    "mesh3d": [
                      {
                        "colorbar": {
                          "outlinewidth": 0,
                          "ticks": ""
                        },
                        "type": "mesh3d"
                      }
                    ],
                    "parcoords": [
                      {
                        "line": {
                          "colorbar": {
                            "outlinewidth": 0,
                            "ticks": ""
                          }
                        },
                        "type": "parcoords"
                      }
                    ],
                    "pie": [
                      {
                        "automargin": true,
                        "type": "pie"
                      }
                    ],
                    "scatter": [
                      {
                        "fillpattern": {
                          "fillmode": "overlay",
                          "size": 10,
                          "solidity": 0.2
                        },
                        "type": "scatter"
                      }
                    ],
                    "scatter3d": [
                      {
                        "line": {
                          "colorbar": {
                            "outlinewidth": 0,
                            "ticks": ""
                          }
                        },
                        "marker": {
                          "colorbar": {
                            "outlinewidth": 0,
                            "ticks": ""
                          }
                        },
                        "type": "scatter3d"
                      }
                    ],
                    "scattercarpet": [
                      {
                        "marker": {
                          "colorbar": {
                            "outlinewidth": 0,
                            "ticks": ""
                          }
                        },
                        "type": "scattercarpet"
                      }
                    ],
                    "scattergeo": [
                      {
                        "marker": {
                          "colorbar": {
                            "outlinewidth": 0,
                            "ticks": ""
                          }
                        },
                        "type": "scattergeo"
                      }
                    ],
                    "scattergl": [
                      {
                        "marker": {
                          "colorbar": {
                            "outlinewidth": 0,
                            "ticks": ""
                          }
                        },
                        "type": "scattergl"
                      }
                    ],
                    "scattermapbox": [
                      {
                        "marker": {
                          "colorbar": {
                            "outlinewidth": 0,
                            "ticks": ""
                          }
                        },
                        "type": "scattermapbox"
                      }
                    ],
                    "scatterpolar": [
                      {
                        "marker": {
                          "colorbar": {
                            "outlinewidth": 0,
                            "ticks": ""
                          }
                        },
                        "type": "scatterpolar"
                      }
                    ],
                    "scatterpolargl": [
                      {
                        "marker": {
                          "colorbar": {
                            "outlinewidth": 0,
                            "ticks": ""
                          }
                        },
                        "type": "scatterpolargl"
                      }
                    ],
                    "scatterternary": [
                      {
                        "marker": {
                          "colorbar": {
                            "outlinewidth": 0,
                            "ticks": ""
                          }
                        },
                        "type": "scatterternary"
                      }
                    ],
                    "surface": [
                      {
                        "colorbar": {
                          "outlinewidth": 0,
                          "ticks": ""
                        },
                        "colorscale": [
                          [
                            0,
                            "#0d0887"
                          ],
                          [
                            0.1111111111111111,
                            "#46039f"
                          ],
                          [
                            0.2222222222222222,
                            "#7201a8"
                          ],
                          [
                            0.3333333333333333,
                            "#9c179e"
                          ],
                          [
                            0.4444444444444444,
                            "#bd3786"
                          ],
                          [
                            0.5555555555555556,
                            "#d8576b"
                          ],
                          [
                            0.6666666666666666,
                            "#ed7953"
                          ],
                          [
                            0.7777777777777778,
                            "#fb9f3a"
                          ],
                          [
                            0.8888888888888888,
                            "#fdca26"
                          ],
                          [
                            1,
                            "#f0f921"
                          ]
                        ],
                        "type": "surface"
                      }
                    ],
                    "table": [
                      {
                        "cells": {
                          "fill": {
                            "color": "#EBF0F8"
                          },
                          "line": {
                            "color": "white"
                          }
                        },
                        "header": {
                          "fill": {
                            "color": "#C8D4E3"
                          },
                          "line": {
                            "color": "white"
                          }
                        },
                        "type": "table"
                      }
                    ]
                  },
                  "layout": {
                    "annotationdefaults": {
                      "arrowcolor": "#2a3f5f",
                      "arrowhead": 0,
                      "arrowwidth": 1
                    },
                    "autotypenumbers": "strict",
                    "coloraxis": {
                      "colorbar": {
                        "outlinewidth": 0,
                        "ticks": ""
                      }
                    },
                    "colorscale": {
                      "diverging": [
                        [
                          0,
                          "#8e0152"
                        ],
                        [
                          0.1,
                          "#c51b7d"
                        ],
                        [
                          0.2,
                          "#de77ae"
                        ],
                        [
                          0.3,
                          "#f1b6da"
                        ],
                        [
                          0.4,
                          "#fde0ef"
                        ],
                        [
                          0.5,
                          "#f7f7f7"
                        ],
                        [
                          0.6,
                          "#e6f5d0"
                        ],
                        [
                          0.7,
                          "#b8e186"
                        ],
                        [
                          0.8,
                          "#7fbc41"
                        ],
                        [
                          0.9,
                          "#4d9221"
                        ],
                        [
                          1,
                          "#276419"
                        ]
                      ],
                      "sequential": [
                        [
                          0,
                          "#0d0887"
                        ],
                        [
                          0.1111111111111111,
                          "#46039f"
                        ],
                        [
                          0.2222222222222222,
                          "#7201a8"
                        ],
                        [
                          0.3333333333333333,
                          "#9c179e"
                        ],
                        [
                          0.4444444444444444,
                          "#bd3786"
                        ],
                        [
                          0.5555555555555556,
                          "#d8576b"
                        ],
                        [
                          0.6666666666666666,
                          "#ed7953"
                        ],
                        [
                          0.7777777777777778,
                          "#fb9f3a"
                        ],
                        [
                          0.8888888888888888,
                          "#fdca26"
                        ],
                        [
                          1,
                          "#f0f921"
                        ]
                      ],
                      "sequentialminus": [
                        [
                          0,
                          "#0d0887"
                        ],
                        [
                          0.1111111111111111,
                          "#46039f"
                        ],
                        [
                          0.2222222222222222,
                          "#7201a8"
                        ],
                        [
                          0.3333333333333333,
                          "#9c179e"
                        ],
                        [
                          0.4444444444444444,
                          "#bd3786"
                        ],
                        [
                          0.5555555555555556,
                          "#d8576b"
                        ],
                        [
                          0.6666666666666666,
                          "#ed7953"
                        ],
                        [
                          0.7777777777777778,
                          "#fb9f3a"
                        ],
                        [
                          0.8888888888888888,
                          "#fdca26"
                        ],
                        [
                          1,
                          "#f0f921"
                        ]
                      ]
                    },
                    "colorway": [
                      "#636efa",
                      "#EF553B",
                      "#00cc96",
                      "#ab63fa",
                      "#FFA15A",
                      "#19d3f3",
                      "#FF6692",
                      "#B6E880",
                      "#FF97FF",
                      "#FECB52"
                    ],
                    "font": {
                      "color": "#2a3f5f"
                    },
                    "geo": {
                      "bgcolor": "white",
                      "lakecolor": "white",
                      "landcolor": "#E5ECF6",
                      "showlakes": true,
                      "showland": true,
                      "subunitcolor": "white"
                    },
                    "hoverlabel": {
                      "align": "left"
                    },
                    "hovermode": "closest",
                    "mapbox": {
                      "style": "light"
                    },
                    "paper_bgcolor": "white",
                    "plot_bgcolor": "#E5ECF6",
                    "polar": {
                      "angularaxis": {
                        "gridcolor": "white",
                        "linecolor": "white",
                        "ticks": ""
                      },
                      "bgcolor": "#E5ECF6",
                      "radialaxis": {
                        "gridcolor": "white",
                        "linecolor": "white",
                        "ticks": ""
                      }
                    },
                    "scene": {
                      "xaxis": {
                        "backgroundcolor": "#E5ECF6",
                        "gridcolor": "white",
                        "gridwidth": 2,
                        "linecolor": "white",
                        "showbackground": true,
                        "ticks": "",
                        "zerolinecolor": "white"
                      },
                      "yaxis": {
                        "backgroundcolor": "#E5ECF6",
                        "gridcolor": "white",
                        "gridwidth": 2,
                        "linecolor": "white",
                        "showbackground": true,
                        "ticks": "",
                        "zerolinecolor": "white"
                      },
                      "zaxis": {
                        "backgroundcolor": "#E5ECF6",
                        "gridcolor": "white",
                        "gridwidth": 2,
                        "linecolor": "white",
                        "showbackground": true,
                        "ticks": "",
                        "zerolinecolor": "white"
                      }
                    },
                    "shapedefaults": {
                      "line": {
                        "color": "#2a3f5f"
                      }
                    },
                    "ternary": {
                      "aaxis": {
                        "gridcolor": "white",
                        "linecolor": "white",
                        "ticks": ""
                      },
                      "baxis": {
                        "gridcolor": "white",
                        "linecolor": "white",
                        "ticks": ""
                      },
                      "bgcolor": "#E5ECF6",
                      "caxis": {
                        "gridcolor": "white",
                        "linecolor": "white",
                        "ticks": ""
                      }
                    },
                    "title": {
                      "x": 0.05
                    },
                    "xaxis": {
                      "automargin": true,
                      "gridcolor": "white",
                      "linecolor": "white",
                      "ticks": "",
                      "title": {
                        "standoff": 15
                      },
                      "zerolinecolor": "white",
                      "zerolinewidth": 2
                    },
                    "yaxis": {
                      "automargin": true,
                      "gridcolor": "white",
                      "linecolor": "white",
                      "ticks": "",
                      "title": {
                        "standoff": 15
                      },
                      "zerolinecolor": "white",
                      "zerolinewidth": 2
                    }
                  }
                },
                "title": {
                  "text": "Contour Plot"
                },
                "xaxis": {
                  "range": [
                    9,
                    31
                  ],
                  "title": {
                    "text": "max_depth"
                  }
                },
                "yaxis": {
                  "range": [
                    96.05,
                    204.95
                  ],
                  "title": {
                    "text": "n_estimators"
                  }
                }
              }
            }
          },
          "metadata": {},
          "output_type": "display_data"
        }
      ],
      "source": [
        "# График контура отношений гиперпараметров\n",
        "optuna.visualization.plot_contour(study, params=[\"max_depth\", \"n_estimators\"],\n",
        "                                  target_name=\"f1_score\")"
      ]
    },
    {
      "cell_type": "markdown",
      "metadata": {},
      "source": [
        "### <center> **Optuna**\n",
        "### <center> **(Логистическая регрессия)**"
      ]
    },
    {
      "cell_type": "code",
      "execution_count": 107,
      "metadata": {},
      "outputs": [],
      "source": [
        "# Настроим оптимизацию гиперпараметров для алгоритма логистической регрессии\n",
        "def optuna_lr(trial):\n",
        " # Задаем пространства поиска гиперпараметров\n",
        "    penalty = trial.suggest_categorical('penalty', ['l2', 'none'])\n",
        "    solver = trial.suggest_categorical('solver', ['lbfgs', 'sag'])\n",
        "    C = trial.suggest_float('C', 0.01, 1)\n",
        "\n",
        "    # Создаем модель\n",
        "    model = linear_model.LogisticRegression(penalty=penalty,\n",
        "                                          solver=solver,\n",
        "                                          C=C,\n",
        "                                          random_state=random_state)\n",
        "    # Обучаем модель\n",
        "    model.fit(X_train, y_train)\n",
        "    score = cross_val_score(model, X_train, y_train, cv=5, scoring=\"f1\", n_jobs=-1).mean()\n",
        "\n",
        "    return score"
      ]
    },
    {
      "cell_type": "code",
      "execution_count": 108,
      "metadata": {},
      "outputs": [
        {
          "name": "stderr",
          "output_type": "stream",
          "text": [
            "[I 2024-02-20 17:50:45,566] A new study created in memory with name: LogisticRegression\n"
          ]
        },
        {
          "name": "stdout",
          "output_type": "stream",
          "text": [
            "CPU times: total: 0 ns\n",
            "Wall time: 0 ns\n"
          ]
        },
        {
          "name": "stderr",
          "output_type": "stream",
          "text": [
            "[I 2024-02-20 17:50:49,188] Trial 0 finished with value: 0.7475536741581407 and parameters: {'penalty': 'none', 'solver': 'lbfgs', 'C': 0.4968075194877932}. Best is trial 0 with value: 0.7475536741581407.\n",
            "[I 2024-02-20 17:50:57,881] Trial 1 finished with value: 0.7691686998431067 and parameters: {'penalty': 'l2', 'solver': 'sag', 'C': 0.8101087628692303}. Best is trial 1 with value: 0.7691686998431067.\n",
            "[I 2024-02-20 17:51:02,451] Trial 2 finished with value: 0.7475536741581407 and parameters: {'penalty': 'none', 'solver': 'lbfgs', 'C': 0.995111461859385}. Best is trial 1 with value: 0.7691686998431067.\n",
            "[I 2024-02-20 17:51:06,568] Trial 3 finished with value: 0.7776628252581069 and parameters: {'penalty': 'l2', 'solver': 'lbfgs', 'C': 0.36665008860139237}. Best is trial 3 with value: 0.7776628252581069.\n",
            "[I 2024-02-20 17:51:08,850] Trial 4 finished with value: 0.7715590402825551 and parameters: {'penalty': 'l2', 'solver': 'lbfgs', 'C': 0.6977863429940951}. Best is trial 3 with value: 0.7776628252581069.\n",
            "[I 2024-02-20 17:51:10,561] Trial 5 finished with value: 0.7475536741581407 and parameters: {'penalty': 'none', 'solver': 'lbfgs', 'C': 0.2801722325714566}. Best is trial 3 with value: 0.7776628252581069.\n",
            "[I 2024-02-20 17:51:17,937] Trial 6 finished with value: 0.7665205856775353 and parameters: {'penalty': 'none', 'solver': 'sag', 'C': 0.3444897452075875}. Best is trial 3 with value: 0.7776628252581069.\n",
            "[I 2024-02-20 17:51:25,152] Trial 7 finished with value: 0.7665205856775353 and parameters: {'penalty': 'none', 'solver': 'sag', 'C': 0.2622042819833051}. Best is trial 3 with value: 0.7776628252581069.\n",
            "[I 2024-02-20 17:51:26,873] Trial 8 finished with value: 0.7475536741581407 and parameters: {'penalty': 'none', 'solver': 'lbfgs', 'C': 0.6244469890902338}. Best is trial 3 with value: 0.7776628252581069.\n",
            "[I 2024-02-20 17:51:33,759] Trial 9 finished with value: 0.7665205856775353 and parameters: {'penalty': 'none', 'solver': 'sag', 'C': 0.7252057162597056}. Best is trial 3 with value: 0.7776628252581069.\n",
            "[I 2024-02-20 17:51:35,058] Trial 10 finished with value: 0.7814134463479706 and parameters: {'penalty': 'l2', 'solver': 'lbfgs', 'C': 0.01343328303861463}. Best is trial 10 with value: 0.7814134463479706.\n",
            "[I 2024-02-20 17:51:37,177] Trial 11 finished with value: 0.7820346216237246 and parameters: {'penalty': 'l2', 'solver': 'lbfgs', 'C': 0.04159485510176579}. Best is trial 11 with value: 0.7820346216237246.\n",
            "[I 2024-02-20 17:51:39,492] Trial 12 finished with value: 0.7828717496255433 and parameters: {'penalty': 'l2', 'solver': 'lbfgs', 'C': 0.025171486572584133}. Best is trial 12 with value: 0.7828717496255433.\n",
            "[I 2024-02-20 17:51:41,516] Trial 13 finished with value: 0.7829914891395517 and parameters: {'penalty': 'l2', 'solver': 'lbfgs', 'C': 0.022804732051268012}. Best is trial 13 with value: 0.7829914891395517.\n",
            "[I 2024-02-20 17:51:43,808] Trial 14 finished with value: 0.7835821024336084 and parameters: {'penalty': 'l2', 'solver': 'lbfgs', 'C': 0.15533385165565625}. Best is trial 14 with value: 0.7835821024336084.\n",
            "[I 2024-02-20 17:51:46,092] Trial 15 finished with value: 0.7832504251555156 and parameters: {'penalty': 'l2', 'solver': 'lbfgs', 'C': 0.14418602399774744}. Best is trial 14 with value: 0.7835821024336084.\n",
            "[I 2024-02-20 17:51:48,389] Trial 16 finished with value: 0.7805482576528249 and parameters: {'penalty': 'l2', 'solver': 'lbfgs', 'C': 0.1921727790921463}. Best is trial 14 with value: 0.7835821024336084.\n",
            "[I 2024-02-20 17:51:50,961] Trial 17 finished with value: 0.7812704309156681 and parameters: {'penalty': 'l2', 'solver': 'lbfgs', 'C': 0.17516628587535626}. Best is trial 14 with value: 0.7835821024336084.\n",
            "[I 2024-02-20 17:52:03,417] Trial 18 finished with value: 0.7765492097871384 and parameters: {'penalty': 'l2', 'solver': 'sag', 'C': 0.4375615367489337}. Best is trial 14 with value: 0.7835821024336084.\n",
            "[I 2024-02-20 17:52:05,948] Trial 19 finished with value: 0.7826428362928157 and parameters: {'penalty': 'l2', 'solver': 'lbfgs', 'C': 0.1313293695286983}. Best is trial 14 with value: 0.7835821024336084.\n",
            "[I 2024-02-20 17:52:08,533] Trial 20 finished with value: 0.7717443933787995 and parameters: {'penalty': 'l2', 'solver': 'lbfgs', 'C': 0.5757231998436606}. Best is trial 14 with value: 0.7835821024336084.\n",
            "[I 2024-02-20 17:52:10,988] Trial 21 finished with value: 0.7835815037114904 and parameters: {'penalty': 'l2', 'solver': 'lbfgs', 'C': 0.12446452021076777}. Best is trial 14 with value: 0.7835821024336084.\n",
            "[I 2024-02-20 17:52:13,502] Trial 22 finished with value: 0.7838673914669819 and parameters: {'penalty': 'l2', 'solver': 'lbfgs', 'C': 0.13610554656960328}. Best is trial 22 with value: 0.7838673914669819.\n",
            "[I 2024-02-20 17:52:16,070] Trial 23 finished with value: 0.7800951143722272 and parameters: {'penalty': 'l2', 'solver': 'lbfgs', 'C': 0.2441181512742983}. Best is trial 22 with value: 0.7838673914669819.\n",
            "[I 2024-02-20 17:52:18,526] Trial 24 finished with value: 0.7817855019910125 and parameters: {'penalty': 'l2', 'solver': 'lbfgs', 'C': 0.1108623898630221}. Best is trial 22 with value: 0.7838673914669819.\n",
            "[I 2024-02-20 17:52:21,061] Trial 25 finished with value: 0.7781715704316323 and parameters: {'penalty': 'l2', 'solver': 'lbfgs', 'C': 0.38186656938782937}. Best is trial 22 with value: 0.7838673914669819.\n",
            "[I 2024-02-20 17:52:32,510] Trial 26 finished with value: 0.7801935558156978 and parameters: {'penalty': 'l2', 'solver': 'sag', 'C': 0.23675276001554404}. Best is trial 22 with value: 0.7838673914669819.\n",
            "[I 2024-02-20 17:52:34,151] Trial 27 finished with value: 0.7825183694169786 and parameters: {'penalty': 'l2', 'solver': 'lbfgs', 'C': 0.11575959986961834}. Best is trial 22 with value: 0.7838673914669819.\n",
            "[I 2024-02-20 17:52:35,878] Trial 28 finished with value: 0.7783991531051107 and parameters: {'penalty': 'l2', 'solver': 'lbfgs', 'C': 0.3294809030130528}. Best is trial 22 with value: 0.7838673914669819.\n",
            "[I 2024-02-20 17:52:37,619] Trial 29 finished with value: 0.7766883679025917 and parameters: {'penalty': 'l2', 'solver': 'lbfgs', 'C': 0.4604535220802438}. Best is trial 22 with value: 0.7838673914669819.\n",
            "[I 2024-02-20 17:52:39,313] Trial 30 finished with value: 0.7825975930026987 and parameters: {'penalty': 'l2', 'solver': 'lbfgs', 'C': 0.07362496209308991}. Best is trial 22 with value: 0.7838673914669819.\n",
            "[I 2024-02-20 17:52:41,034] Trial 31 finished with value: 0.7814790692517523 and parameters: {'penalty': 'l2', 'solver': 'lbfgs', 'C': 0.18102316774023391}. Best is trial 22 with value: 0.7838673914669819.\n",
            "[I 2024-02-20 17:52:42,879] Trial 32 finished with value: 0.7826272983043472 and parameters: {'penalty': 'l2', 'solver': 'lbfgs', 'C': 0.16244005359566838}. Best is trial 22 with value: 0.7838673914669819.\n",
            "[I 2024-02-20 17:52:44,531] Trial 33 finished with value: 0.7833366302014331 and parameters: {'penalty': 'l2', 'solver': 'lbfgs', 'C': 0.09190074899439248}. Best is trial 22 with value: 0.7838673914669819.\n",
            "[I 2024-02-20 17:52:46,301] Trial 34 finished with value: 0.7687702787242212 and parameters: {'penalty': 'l2', 'solver': 'lbfgs', 'C': 0.9552308851110544}. Best is trial 22 with value: 0.7838673914669819.\n",
            "[I 2024-02-20 17:52:48,097] Trial 35 finished with value: 0.7821109699552921 and parameters: {'penalty': 'l2', 'solver': 'lbfgs', 'C': 0.08485233264539736}. Best is trial 22 with value: 0.7838673914669819.\n",
            "[I 2024-02-20 17:52:55,274] Trial 36 finished with value: 0.7665205856775353 and parameters: {'penalty': 'none', 'solver': 'sag', 'C': 0.2151229617206063}. Best is trial 22 with value: 0.7838673914669819.\n",
            "[I 2024-02-20 17:52:57,010] Trial 37 finished with value: 0.7794826230014772 and parameters: {'penalty': 'l2', 'solver': 'lbfgs', 'C': 0.270674730822975}. Best is trial 22 with value: 0.7838673914669819.\n",
            "[I 2024-02-20 17:52:58,938] Trial 38 finished with value: 0.7791068261513776 and parameters: {'penalty': 'l2', 'solver': 'lbfgs', 'C': 0.3232134671198542}. Best is trial 22 with value: 0.7838673914669819.\n",
            "[I 2024-02-20 17:53:05,684] Trial 39 finished with value: 0.7665205856775353 and parameters: {'penalty': 'none', 'solver': 'sag', 'C': 0.08552025724458041}. Best is trial 22 with value: 0.7838673914669819.\n",
            "[I 2024-02-20 17:53:07,307] Trial 40 finished with value: 0.7475536741581407 and parameters: {'penalty': 'none', 'solver': 'lbfgs', 'C': 0.3947340160331255}. Best is trial 22 with value: 0.7838673914669819.\n",
            "[I 2024-02-20 17:53:08,951] Trial 41 finished with value: 0.7832603684464866 and parameters: {'penalty': 'l2', 'solver': 'lbfgs', 'C': 0.13709089112826556}. Best is trial 22 with value: 0.7838673914669819.\n",
            "[I 2024-02-20 17:53:10,562] Trial 42 finished with value: 0.779698637350217 and parameters: {'penalty': 'l2', 'solver': 'lbfgs', 'C': 0.21100271870469228}. Best is trial 22 with value: 0.7838673914669819.\n",
            "[I 2024-02-20 17:53:12,432] Trial 43 finished with value: 0.779722879613176 and parameters: {'penalty': 'l2', 'solver': 'lbfgs', 'C': 0.29464716214052544}. Best is trial 22 with value: 0.7838673914669819.\n",
            "[I 2024-02-20 17:53:14,071] Trial 44 finished with value: 0.7825087309392204 and parameters: {'penalty': 'l2', 'solver': 'lbfgs', 'C': 0.11628357289544103}. Best is trial 22 with value: 0.7838673914669819.\n",
            "[I 2024-02-20 17:53:15,801] Trial 45 finished with value: 0.782597202779937 and parameters: {'penalty': 'l2', 'solver': 'lbfgs', 'C': 0.06940997944391779}. Best is trial 22 with value: 0.7838673914669819.\n",
            "[I 2024-02-20 17:53:17,509] Trial 46 finished with value: 0.76970663509121 and parameters: {'penalty': 'l2', 'solver': 'lbfgs', 'C': 0.8254390212069038}. Best is trial 22 with value: 0.7838673914669819.\n",
            "[I 2024-02-20 17:53:24,734] Trial 47 finished with value: 0.7665205856775353 and parameters: {'penalty': 'none', 'solver': 'sag', 'C': 0.5202813851615462}. Best is trial 22 with value: 0.7838673914669819.\n",
            "[I 2024-02-20 17:53:26,363] Trial 48 finished with value: 0.7822628584507029 and parameters: {'penalty': 'l2', 'solver': 'lbfgs', 'C': 0.04807454193265853}. Best is trial 22 with value: 0.7838673914669819.\n",
            "[I 2024-02-20 17:53:28,021] Trial 49 finished with value: 0.7818000211050263 and parameters: {'penalty': 'l2', 'solver': 'lbfgs', 'C': 0.15214839357904902}. Best is trial 22 with value: 0.7838673914669819.\n"
          ]
        }
      ],
      "source": [
        "%time\n",
        "# Создаем объект исследования\n",
        "# можем напрямую указать, что нам необходимо максимизировать метрику direction=\"maximize\"\n",
        "study2 = optuna.create_study(study_name=\"LogisticRegression\", direction=\"maximize\")\n",
        "# Ищем лучшую комбинацию гиперпараметров n_trials раз\n",
        "study2.optimize(optuna_lr, n_trials=50)"
      ]
    },
    {
      "cell_type": "code",
      "execution_count": 110,
      "metadata": {},
      "outputs": [
        {
          "name": "stdout",
          "output_type": "stream",
          "text": [
            "Наилучшие значения гиперпараметров {'penalty': 'l2', 'solver': 'lbfgs', 'C': 0.13610554656960328}\n",
            "f1_score на обучающем наборе: 0.78\n"
          ]
        }
      ],
      "source": [
        "# Выводим результаты на обучающей выборке\n",
        "print(\"Наилучшие значения гиперпараметров {}\".format(study2.best_params))\n",
        "print(\"f1_score на обучающем наборе: {:.2f}\".format(study2.best_value))"
      ]
    },
    {
      "cell_type": "code",
      "execution_count": 112,
      "metadata": {},
      "outputs": [
        {
          "name": "stdout",
          "output_type": "stream",
          "text": [
            "accuracy на тестовом наборе: 0.76\n",
            "f1_score на тестовом наборе: 0.79\n"
          ]
        }
      ],
      "source": [
        "# Рассчитаем точность для тестовой выборки\n",
        "model = linear_model.LogisticRegression(**study2.best_params,random_state=random_state, )\n",
        "model.fit(X_train, y_train)\n",
        "y_train_pred = model.predict(X_train)\n",
        "print(\"accuracy на тестовом наборе: {:.2f}\".format(model.score(X_test, y_test)))\n",
        "y_test_pred = model.predict(X_test)\n",
        "print('f1_score на тестовом наборе: {:.2f}'.format(metrics.f1_score(y_test, y_test_pred)))"
      ]
    },
    {
      "cell_type": "markdown",
      "metadata": {},
      "source": [
        "Значение ключевой метрики немного снизилось, но зато нет показателей переобучения в обучающем наборе данных."
      ]
    },
    {
      "cell_type": "markdown",
      "metadata": {},
      "source": [
        "# **ВЫВОД:**\n",
        "\n",
        "Лучшего результата ключевой метрики удалось добиться методом Optuna и при алгоритме обучения модели Случайным лесом. Но есть вероятность переобучения, т.к. модель могнла подстроиться под обучающий набор данных.\n",
        "\n",
        "Показатели метрики методом Optuna при алгоритме обучения модели Логистической регрессии немного ниже, но являются вполне приемлемыми для поставленной задачи без признаков переобучения в обучающем наборе данных.\n",
        "\n",
        "Считаем, что эксперимент проведен успешно, намеченные цели достигнуты."
      ]
    }
  ],
  "metadata": {
    "accelerator": "GPU",
    "colab": {
      "collapsed_sections": [],
      "name": "Предсказание_дохода.ipynb",
      "provenance": []
    },
    "kernelspec": {
      "display_name": "Python 3",
      "name": "python3"
    },
    "language_info": {
      "codemirror_mode": {
        "name": "ipython",
        "version": 3
      },
      "file_extension": ".py",
      "mimetype": "text/x-python",
      "name": "python",
      "nbconvert_exporter": "python",
      "pygments_lexer": "ipython3",
      "version": "3.9.10"
    }
  },
  "nbformat": 4,
  "nbformat_minor": 0
}
